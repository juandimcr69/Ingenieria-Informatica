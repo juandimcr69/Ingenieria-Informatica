{
 "cells": [
  {
   "cell_type": "code",
   "execution_count": 33,
   "metadata": {},
   "outputs": [
    {
     "data": {
      "text/html": [
       "<html><script type=\"math/tex; mode=display\">\\newcommand{\\Bold}[1]{\\mathbf{#1}}\\left(\\begin{array}{rrrrr}\n",
       "-1 & 1 & 1 & 1 & -1 \\\\\n",
       "-2 & 0 & -1 & 2 & 1 \\\\\n",
       "1 & -2 & -1 & 1 & 1 \\\\\n",
       "0 & -1 & 0 & -\\frac{1}{2} & 0 \\\\\n",
       "1 & 1 & 0 & 1 & \\frac{1}{2} \\\\\n",
       "0 & 0 & -2 & 0 & 2 \\\\\n",
       "1 & 1 & -1 & \\frac{1}{2} & 0\n",
       "\\end{array}\\right)</script></html>"
      ],
      "text/plain": [
       "[  -1    1    1    1   -1]\n",
       "[  -2    0   -1    2    1]\n",
       "[   1   -2   -1    1    1]\n",
       "[   0   -1    0 -1/2    0]\n",
       "[   1    1    0    1  1/2]\n",
       "[   0    0   -2    0    2]\n",
       "[   1    1   -1  1/2    0]"
      ]
     },
     "metadata": {},
     "output_type": "display_data"
    }
   ],
   "source": [
    "B = matrix(QQ,7,5,[[-1,1,1,1,-1],[-2,0,-1,2,1],[1,-2,-1,1,1],[0,-1,0,-1/2,0],[1,1,0,1,1/2],[0,0,-2,0,2],[1,1,-1,1/2,0]]); show(B)"
   ]
  },
  {
   "cell_type": "code",
   "execution_count": 34,
   "metadata": {},
   "outputs": [
    {
     "data": {
      "text/html": [
       "<html><script type=\"math/tex; mode=display\">\\newcommand{\\Bold}[1]{\\mathbf{#1}}\\left(\\begin{array}{rrrrr|rrrrrrr}\n",
       "-1 & 1 & 1 & 1 & -1 & 1 & 0 & 0 & 0 & 0 & 0 & 0 \\\\\n",
       "-2 & 0 & -1 & 2 & 1 & 0 & 1 & 0 & 0 & 0 & 0 & 0 \\\\\n",
       "1 & -2 & -1 & 1 & 1 & 0 & 0 & 1 & 0 & 0 & 0 & 0 \\\\\n",
       "0 & -1 & 0 & -\\frac{1}{2} & 0 & 0 & 0 & 0 & 1 & 0 & 0 & 0 \\\\\n",
       "1 & 1 & 0 & 1 & \\frac{1}{2} & 0 & 0 & 0 & 0 & 1 & 0 & 0 \\\\\n",
       "0 & 0 & -2 & 0 & 2 & 0 & 0 & 0 & 0 & 0 & 1 & 0 \\\\\n",
       "1 & 1 & -1 & \\frac{1}{2} & 0 & 0 & 0 & 0 & 0 & 0 & 0 & 1\n",
       "\\end{array}\\right)</script></html>"
      ],
      "text/plain": [
       "[  -1    1    1    1   -1|   1    0    0    0    0    0    0]\n",
       "[  -2    0   -1    2    1|   0    1    0    0    0    0    0]\n",
       "[   1   -2   -1    1    1|   0    0    1    0    0    0    0]\n",
       "[   0   -1    0 -1/2    0|   0    0    0    1    0    0    0]\n",
       "[   1    1    0    1  1/2|   0    0    0    0    1    0    0]\n",
       "[   0    0   -2    0    2|   0    0    0    0    0    1    0]\n",
       "[   1    1   -1  1/2    0|   0    0    0    0    0    0    1]"
      ]
     },
     "metadata": {},
     "output_type": "display_data"
    }
   ],
   "source": [
    "BB=block_matrix([[B,1]]); show(BB)"
   ]
  },
  {
   "cell_type": "code",
   "execution_count": 35,
   "metadata": {},
   "outputs": [
    {
     "data": {
      "text/html": [
       "<html><script type=\"math/tex; mode=display\">\\newcommand{\\Bold}[1]{\\mathbf{#1}}\\left(\\begin{array}{rrrrr|rrrrrrr}\n",
       "1 & 0 & 0 & 0 & 0 & 0 & 0 & -\\frac{1}{5} & \\frac{8}{5} & \\frac{4}{5} & -\\frac{1}{10} & \\frac{2}{5} \\\\\n",
       "0 & 1 & 0 & 0 & 0 & 0 & 0 & -\\frac{3}{10} & -\\frac{1}{10} & \\frac{1}{5} & \\frac{1}{10} & \\frac{1}{10} \\\\\n",
       "0 & 0 & 1 & 0 & 0 & 0 & 0 & -\\frac{1}{5} & \\frac{3}{5} & \\frac{4}{5} & -\\frac{1}{10} & -\\frac{3}{5} \\\\\n",
       "0 & 0 & 0 & 1 & 0 & 0 & 0 & \\frac{3}{5} & -\\frac{9}{5} & -\\frac{2}{5} & -\\frac{1}{5} & -\\frac{1}{5} \\\\\n",
       "0 & 0 & 0 & 0 & 1 & 0 & 0 & -\\frac{1}{5} & \\frac{3}{5} & \\frac{4}{5} & \\frac{2}{5} & -\\frac{3}{5} \\\\\n",
       "0 & 0 & 0 & 0 & 0 & 1 & 0 & -\\frac{1}{2} & \\frac{7}{2} & 1 & \\frac{1}{2} & \\frac{1}{2} \\\\\n",
       "0 & 0 & 0 & 0 & 0 & 0 & 1 & -\\frac{8}{5} & \\frac{34}{5} & \\frac{12}{5} & -\\frac{3}{10} & \\frac{6}{5}\n",
       "\\end{array}\\right)</script></html>"
      ],
      "text/plain": [
       "[    1     0     0     0     0|    0     0  -1/5   8/5   4/5 -1/10   2/5]\n",
       "[    0     1     0     0     0|    0     0 -3/10 -1/10   1/5  1/10  1/10]\n",
       "[    0     0     1     0     0|    0     0  -1/5   3/5   4/5 -1/10  -3/5]\n",
       "[    0     0     0     1     0|    0     0   3/5  -9/5  -2/5  -1/5  -1/5]\n",
       "[    0     0     0     0     1|    0     0  -1/5   3/5   4/5   2/5  -3/5]\n",
       "[    0     0     0     0     0|    1     0  -1/2   7/2     1   1/2   1/2]\n",
       "[    0     0     0     0     0|    0     1  -8/5  34/5  12/5 -3/10   6/5]"
      ]
     },
     "metadata": {},
     "output_type": "display_data"
    }
   ],
   "source": [
    "D=BB.echelon_form(); show(D)"
   ]
  },
  {
   "cell_type": "code",
   "execution_count": 36,
   "metadata": {},
   "outputs": [],
   "source": [
    "D=copy(D)"
   ]
  },
  {
   "cell_type": "code",
   "execution_count": 37,
   "metadata": {},
   "outputs": [
    {
     "data": {
      "text/html": [
       "<html><script type=\"math/tex; mode=display\">\\newcommand{\\Bold}[1]{\\mathbf{#1}}\\left(\\begin{array}{rrrrr|rrrrrrr}\n",
       "1 & 0 & 0 & 0 & 0 & 0 & 0 & -\\frac{1}{5} & \\frac{8}{5} & \\frac{4}{5} & -\\frac{1}{10} & \\frac{2}{5} \\\\\n",
       "0 & 1 & 0 & 0 & 0 & 0 & 0 & -\\frac{3}{10} & -\\frac{1}{10} & \\frac{1}{5} & \\frac{1}{10} & \\frac{1}{10} \\\\\n",
       "0 & 0 & 1 & 0 & 0 & 0 & 0 & -\\frac{1}{5} & \\frac{3}{5} & \\frac{4}{5} & -\\frac{1}{10} & -\\frac{3}{5} \\\\\n",
       "0 & 0 & 0 & 1 & 0 & 0 & 0 & \\frac{3}{5} & -\\frac{9}{5} & -\\frac{2}{5} & -\\frac{1}{5} & -\\frac{1}{5} \\\\\n",
       "0 & 0 & 0 & 0 & 1 & 0 & 0 & -\\frac{1}{5} & \\frac{3}{5} & \\frac{4}{5} & \\frac{2}{5} & -\\frac{3}{5} \\\\\n",
       "\\hline\n",
       " 0 & 0 & 0 & 0 & 0 & 1 & 0 & -\\frac{1}{2} & \\frac{7}{2} & 1 & \\frac{1}{2} & \\frac{1}{2} \\\\\n",
       "0 & 0 & 0 & 0 & 0 & 0 & 1 & -\\frac{8}{5} & \\frac{34}{5} & \\frac{12}{5} & -\\frac{3}{10} & \\frac{6}{5}\n",
       "\\end{array}\\right)</script></html>"
      ],
      "text/plain": [
       "[    1     0     0     0     0|    0     0  -1/5   8/5   4/5 -1/10   2/5]\n",
       "[    0     1     0     0     0|    0     0 -3/10 -1/10   1/5  1/10  1/10]\n",
       "[    0     0     1     0     0|    0     0  -1/5   3/5   4/5 -1/10  -3/5]\n",
       "[    0     0     0     1     0|    0     0   3/5  -9/5  -2/5  -1/5  -1/5]\n",
       "[    0     0     0     0     1|    0     0  -1/5   3/5   4/5   2/5  -3/5]\n",
       "[-----------------------------+-----------------------------------------]\n",
       "[    0     0     0     0     0|    1     0  -1/2   7/2     1   1/2   1/2]\n",
       "[    0     0     0     0     0|    0     1  -8/5  34/5  12/5 -3/10   6/5]"
      ]
     },
     "metadata": {},
     "output_type": "display_data"
    }
   ],
   "source": [
    "D.subdivide([5],[5]); show(D)"
   ]
  },
  {
   "cell_type": "code",
   "execution_count": 38,
   "metadata": {},
   "outputs": [
    {
     "data": {
      "text/html": [
       "<html><script type=\"math/tex; mode=display\">\\newcommand{\\Bold}[1]{\\mathbf{#1}}\\left(\\begin{array}{rrrrrrr}\n",
       "0 & 0 & -\\frac{1}{5} & \\frac{8}{5} & \\frac{4}{5} & -\\frac{1}{10} & \\frac{2}{5} \\\\\n",
       "0 & 0 & -\\frac{3}{10} & -\\frac{1}{10} & \\frac{1}{5} & \\frac{1}{10} & \\frac{1}{10} \\\\\n",
       "0 & 0 & -\\frac{1}{5} & \\frac{3}{5} & \\frac{4}{5} & -\\frac{1}{10} & -\\frac{3}{5} \\\\\n",
       "0 & 0 & \\frac{3}{5} & -\\frac{9}{5} & -\\frac{2}{5} & -\\frac{1}{5} & -\\frac{1}{5} \\\\\n",
       "0 & 0 & -\\frac{1}{5} & \\frac{3}{5} & \\frac{4}{5} & \\frac{2}{5} & -\\frac{3}{5}\n",
       "\\end{array}\\right)</script></html>"
      ],
      "text/plain": [
       "[    0     0  -1/5   8/5   4/5 -1/10   2/5]\n",
       "[    0     0 -3/10 -1/10   1/5  1/10  1/10]\n",
       "[    0     0  -1/5   3/5   4/5 -1/10  -3/5]\n",
       "[    0     0   3/5  -9/5  -2/5  -1/5  -1/5]\n",
       "[    0     0  -1/5   3/5   4/5   2/5  -3/5]"
      ]
     },
     "metadata": {},
     "output_type": "display_data"
    }
   ],
   "source": [
    "A=D.subdivision(0,1); show(A)"
   ]
  },
  {
   "cell_type": "code",
   "execution_count": 51,
   "metadata": {},
   "outputs": [
    {
     "data": {
      "text/html": [
       "<html><script type=\"math/tex; mode=display\">\\newcommand{\\Bold}[1]{\\mathbf{#1}}\\left(\\begin{array}{r}\n",
       "4 \\\\\n",
       "5 \\\\\n",
       "0 \\\\\n",
       "-1 \\\\\n",
       "\\frac{3}{4} \\\\\n",
       "-2 \\\\\n",
       "-\\frac{1}{2}\n",
       "\\end{array}\\right)</script></html>"
      ],
      "text/plain": [
       "[   4]\n",
       "[   5]\n",
       "[   0]\n",
       "[  -1]\n",
       "[ 3/4]\n",
       "[  -2]\n",
       "[-1/2]"
      ]
     },
     "metadata": {},
     "output_type": "display_data"
    }
   ],
   "source": [
    "v = matrix(QQ,7,1,[[4],[5],[0],[-1],[3/4],[-2],[-1/2]]); show(v)"
   ]
  },
  {
   "cell_type": "code",
   "execution_count": 52,
   "metadata": {},
   "outputs": [
    {
     "data": {
      "text/html": [
       "<html><script type=\"math/tex; mode=display\">\\newcommand{\\Bold}[1]{\\mathbf{#1}}\\left(\\begin{array}{r}\n",
       "-1 \\\\\n",
       "0 \\\\\n",
       "\\frac{1}{2} \\\\\n",
       "2 \\\\\n",
       "-\\frac{1}{2}\n",
       "\\end{array}\\right)</script></html>"
      ],
      "text/plain": [
       "[  -1]\n",
       "[   0]\n",
       "[ 1/2]\n",
       "[   2]\n",
       "[-1/2]"
      ]
     },
     "metadata": {},
     "output_type": "display_data"
    }
   ],
   "source": [
    "show (A*v)"
   ]
  }
 ],
 "metadata": {
  "kernelspec": {
   "display_name": "SageMath 9.1",
   "language": "sage",
   "name": "sagemath"
  },
  "language_info": {
   "codemirror_mode": {
    "name": "ipython",
    "version": 3
   },
   "file_extension": ".py",
   "mimetype": "text/x-python",
   "name": "python",
   "nbconvert_exporter": "python",
   "pygments_lexer": "ipython3",
   "version": "3.7.3"
  }
 },
 "nbformat": 4,
 "nbformat_minor": 2
}
