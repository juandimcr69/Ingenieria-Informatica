{
 "cells": [
  {
   "cell_type": "markdown",
   "metadata": {},
   "source": [
    "# Coordenadas respecto a una base"
   ]
  },
  {
   "cell_type": "markdown",
   "metadata": {},
   "source": [
    "Ejercicio 47 (t17)"
   ]
  },
  {
   "cell_type": "code",
   "execution_count": 1,
   "metadata": {},
   "outputs": [
    {
     "data": {
      "text/html": [
       "<html><script type=\"math/tex; mode=display\">\\newcommand{\\Bold}[1]{\\mathbf{#1}}\\left(\\begin{array}{rrr}\n",
       "1 & 4 & 1 \\\\\n",
       "3 & 3 & 1 \\\\\n",
       "0 & 3 & 0 \\\\\n",
       "0 & 0 & 0 \\\\\n",
       "4 & 1 & 3\n",
       "\\end{array}\\right)</script></html>"
      ],
      "text/plain": [
       "[1 4 1]\n",
       "[3 3 1]\n",
       "[0 3 0]\n",
       "[0 0 0]\n",
       "[4 1 3]"
      ]
     },
     "metadata": {},
     "output_type": "display_data"
    }
   ],
   "source": [
    "B=column_matrix(Zmod(5),[[1,3,0,0,4],[4,3,3,0,1],[1,1,0,0,3]]); show(B)"
   ]
  },
  {
   "cell_type": "code",
   "execution_count": 2,
   "metadata": {},
   "outputs": [
    {
     "data": {
      "text/html": [
       "<html><script type=\"math/tex; mode=display\">\\newcommand{\\Bold}[1]{\\mathbf{#1}}\\left(\\begin{array}{r}\n",
       "4 \\\\\n",
       "1 \\\\\n",
       "4 \\\\\n",
       "0 \\\\\n",
       "4\n",
       "\\end{array}\\right)</script></html>"
      ],
      "text/plain": [
       "[4]\n",
       "[1]\n",
       "[4]\n",
       "[0]\n",
       "[4]"
      ]
     },
     "metadata": {},
     "output_type": "display_data"
    }
   ],
   "source": [
    "y=column_matrix(Zmod(5),[4,1,4,0,4]); show(y)"
   ]
  },
  {
   "cell_type": "code",
   "execution_count": 3,
   "metadata": {},
   "outputs": [
    {
     "data": {
      "text/html": [
       "<html><script type=\"math/tex; mode=display\">\\newcommand{\\Bold}[1]{\\mathbf{#1}}\\left(\\begin{array}{rrr|r}\n",
       "1 & 4 & 1 & 4 \\\\\n",
       "3 & 3 & 1 & 1 \\\\\n",
       "0 & 3 & 0 & 4 \\\\\n",
       "0 & 0 & 0 & 0 \\\\\n",
       "4 & 1 & 3 & 4\n",
       "\\end{array}\\right)</script></html>"
      ],
      "text/plain": [
       "[1 4 1|4]\n",
       "[3 3 1|1]\n",
       "[0 3 0|4]\n",
       "[0 0 0|0]\n",
       "[4 1 3|4]"
      ]
     },
     "metadata": {},
     "output_type": "display_data"
    }
   ],
   "source": [
    "By=block_matrix([[B,y]]); show(By)"
   ]
  },
  {
   "cell_type": "code",
   "execution_count": 4,
   "metadata": {},
   "outputs": [
    {
     "data": {
      "text/html": [
       "<html><script type=\"math/tex; mode=display\">\\newcommand{\\Bold}[1]{\\mathbf{#1}}\\left(\\begin{array}{rrr|r}\n",
       "1 & 0 & 0 & 0 \\\\\n",
       "0 & 1 & 0 & 3 \\\\\n",
       "0 & 0 & 1 & 2 \\\\\n",
       "0 & 0 & 0 & 0 \\\\\n",
       "0 & 0 & 0 & 0\n",
       "\\end{array}\\right)</script></html>"
      ],
      "text/plain": [
       "[1 0 0|0]\n",
       "[0 1 0|3]\n",
       "[0 0 1|2]\n",
       "[0 0 0|0]\n",
       "[0 0 0|0]"
      ]
     },
     "metadata": {},
     "output_type": "display_data"
    }
   ],
   "source": [
    "R=By.echelon_form(); show(R)"
   ]
  },
  {
   "cell_type": "code",
   "execution_count": 5,
   "metadata": {},
   "outputs": [],
   "source": [
    "# El sistema es compatible determinado, luego\n",
    "# el vector y pertenece a V=C(B) y sus coordenadas en base B son:"
   ]
  },
  {
   "cell_type": "code",
   "execution_count": 7,
   "metadata": {},
   "outputs": [
    {
     "data": {
      "text/html": [
       "<html><script type=\"math/tex; mode=display\">\\newcommand{\\Bold}[1]{\\mathbf{#1}}\\left(\\begin{array}{r}\n",
       "0 \\\\\n",
       "3 \\\\\n",
       "2\n",
       "\\end{array}\\right)</script></html>"
      ],
      "text/plain": [
       "[0]\n",
       "[3]\n",
       "[2]"
      ]
     },
     "metadata": {},
     "output_type": "display_data"
    }
   ],
   "source": [
    "x=column_matrix(Zmod(5),[0,3,2]); show(x)"
   ]
  },
  {
   "cell_type": "code",
   "execution_count": 9,
   "metadata": {},
   "outputs": [
    {
     "data": {
      "text/html": [
       "<html><script type=\"math/tex; mode=display\">\\newcommand{\\Bold}[1]{\\mathbf{#1}}\\left(\\begin{array}{r}\n",
       "4 \\\\\n",
       "1 \\\\\n",
       "4 \\\\\n",
       "0 \\\\\n",
       "4\n",
       "\\end{array}\\right)</script></html>"
      ],
      "text/plain": [
       "[4]\n",
       "[1]\n",
       "[4]\n",
       "[0]\n",
       "[4]"
      ]
     },
     "metadata": {},
     "output_type": "display_data"
    }
   ],
   "source": [
    "show(B*x) # comprobación"
   ]
  },
  {
   "cell_type": "code",
   "execution_count": 10,
   "metadata": {},
   "outputs": [],
   "source": [
    "# Otro método (con una inversa por la izquierda de B):"
   ]
  },
  {
   "cell_type": "code",
   "execution_count": 11,
   "metadata": {},
   "outputs": [
    {
     "data": {
      "text/html": [
       "<html><script type=\"math/tex; mode=display\">\\newcommand{\\Bold}[1]{\\mathbf{#1}}\\left(\\begin{array}{rrr|rrrrr}\n",
       "1 & 4 & 1 & 1 & 0 & 0 & 0 & 0 \\\\\n",
       "3 & 3 & 1 & 0 & 1 & 0 & 0 & 0 \\\\\n",
       "0 & 3 & 0 & 0 & 0 & 1 & 0 & 0 \\\\\n",
       "0 & 0 & 0 & 0 & 0 & 0 & 1 & 0 \\\\\n",
       "4 & 1 & 3 & 0 & 0 & 0 & 0 & 1\n",
       "\\end{array}\\right)</script></html>"
      ],
      "text/plain": [
       "[1 4 1|1 0 0 0 0]\n",
       "[3 3 1|0 1 0 0 0]\n",
       "[0 3 0|0 0 1 0 0]\n",
       "[0 0 0|0 0 0 1 0]\n",
       "[4 1 3|0 0 0 0 1]"
      ]
     },
     "metadata": {},
     "output_type": "display_data"
    }
   ],
   "source": [
    "BB=block_matrix([[B,1]]); show(BB)"
   ]
  },
  {
   "cell_type": "code",
   "execution_count": 12,
   "metadata": {},
   "outputs": [
    {
     "data": {
      "text/html": [
       "<html><script type=\"math/tex; mode=display\">\\newcommand{\\Bold}[1]{\\mathbf{#1}}\\left(\\begin{array}{rrr|rrrrr}\n",
       "1 & 0 & 0 & 2 & 0 & 2 & 0 & 1 \\\\\n",
       "0 & 1 & 0 & 0 & 0 & 2 & 0 & 0 \\\\\n",
       "0 & 0 & 1 & 4 & 0 & 0 & 0 & 4 \\\\\n",
       "0 & 0 & 0 & 0 & 1 & 3 & 0 & 3 \\\\\n",
       "0 & 0 & 0 & 0 & 0 & 0 & 1 & 0\n",
       "\\end{array}\\right)</script></html>"
      ],
      "text/plain": [
       "[1 0 0|2 0 2 0 1]\n",
       "[0 1 0|0 0 2 0 0]\n",
       "[0 0 1|4 0 0 0 4]\n",
       "[0 0 0|0 1 3 0 3]\n",
       "[0 0 0|0 0 0 1 0]"
      ]
     },
     "metadata": {},
     "output_type": "display_data"
    }
   ],
   "source": [
    "RR=BB.echelon_form(); show(RR)"
   ]
  },
  {
   "cell_type": "code",
   "execution_count": 13,
   "metadata": {},
   "outputs": [
    {
     "data": {
      "text/html": [
       "<html><script type=\"math/tex; mode=display\">\\newcommand{\\Bold}[1]{\\mathbf{#1}}\\left(\\begin{array}{rrr|rrrrr}\n",
       "1 & 0 & 0 & 2 & 0 & 2 & 0 & 1 \\\\\n",
       "0 & 1 & 0 & 0 & 0 & 2 & 0 & 0 \\\\\n",
       "0 & 0 & 1 & 4 & 0 & 0 & 0 & 4 \\\\\n",
       "\\hline\n",
       " 0 & 0 & 0 & 0 & 1 & 3 & 0 & 3 \\\\\n",
       "0 & 0 & 0 & 0 & 0 & 0 & 1 & 0\n",
       "\\end{array}\\right)</script></html>"
      ],
      "text/plain": [
       "[1 0 0|2 0 2 0 1]\n",
       "[0 1 0|0 0 2 0 0]\n",
       "[0 0 1|4 0 0 0 4]\n",
       "[-----+---------]\n",
       "[0 0 0|0 1 3 0 3]\n",
       "[0 0 0|0 0 0 1 0]"
      ]
     },
     "metadata": {},
     "output_type": "display_data"
    }
   ],
   "source": [
    "RR=copy(RR); RR.subdivide([3],[3]); show(RR)"
   ]
  },
  {
   "cell_type": "code",
   "execution_count": 14,
   "metadata": {},
   "outputs": [
    {
     "data": {
      "text/html": [
       "<html><script type=\"math/tex; mode=display\">\\newcommand{\\Bold}[1]{\\mathbf{#1}}\\left(\\begin{array}{rrrrr}\n",
       "2 & 0 & 2 & 0 & 1 \\\\\n",
       "0 & 0 & 2 & 0 & 0 \\\\\n",
       "4 & 0 & 0 & 0 & 4\n",
       "\\end{array}\\right)</script></html>"
      ],
      "text/plain": [
       "[2 0 2 0 1]\n",
       "[0 0 2 0 0]\n",
       "[4 0 0 0 4]"
      ]
     },
     "metadata": {},
     "output_type": "display_data"
    },
    {
     "data": {
      "text/html": [
       "<html><script type=\"math/tex; mode=display\">\\newcommand{\\Bold}[1]{\\mathbf{#1}}\\left(\\begin{array}{rrrrr}\n",
       "0 & 1 & 3 & 0 & 3 \\\\\n",
       "0 & 0 & 0 & 1 & 0\n",
       "\\end{array}\\right)</script></html>"
      ],
      "text/plain": [
       "[0 1 3 0 3]\n",
       "[0 0 0 1 0]"
      ]
     },
     "metadata": {},
     "output_type": "display_data"
    }
   ],
   "source": [
    "A=RR.subdivision(0,1); H=RR.subdivision(1,1); show(A); show(H)"
   ]
  },
  {
   "cell_type": "code",
   "execution_count": 15,
   "metadata": {},
   "outputs": [],
   "source": [
    "# La matriz A es una inversa por la izquierda de B y\n",
    "# la matriz H da una representación implícita de V, es decir, V=N(H)."
   ]
  },
  {
   "cell_type": "code",
   "execution_count": 16,
   "metadata": {},
   "outputs": [
    {
     "data": {
      "text/html": [
       "<html><script type=\"math/tex; mode=display\">\\newcommand{\\Bold}[1]{\\mathbf{#1}}\\left(\\begin{array}{r}\n",
       "0 \\\\\n",
       "0\n",
       "\\end{array}\\right)</script></html>"
      ],
      "text/plain": [
       "[0]\n",
       "[0]"
      ]
     },
     "metadata": {},
     "output_type": "display_data"
    }
   ],
   "source": [
    "show(H*y) # Comprobamos que y pertenece a V."
   ]
  },
  {
   "cell_type": "code",
   "execution_count": 17,
   "metadata": {},
   "outputs": [],
   "source": [
    "# Las coordenadas de y en base B son:"
   ]
  },
  {
   "cell_type": "code",
   "execution_count": 19,
   "metadata": {},
   "outputs": [
    {
     "data": {
      "text/html": [
       "<html><script type=\"math/tex; mode=display\">\\newcommand{\\Bold}[1]{\\mathbf{#1}}\\left(\\begin{array}{r}\n",
       "0 \\\\\n",
       "3 \\\\\n",
       "2\n",
       "\\end{array}\\right)</script></html>"
      ],
      "text/plain": [
       "[0]\n",
       "[3]\n",
       "[2]"
      ]
     },
     "metadata": {},
     "output_type": "display_data"
    }
   ],
   "source": [
    "show(A*y)"
   ]
  },
  {
   "cell_type": "code",
   "execution_count": 20,
   "metadata": {},
   "outputs": [],
   "source": [
    "# UN EJEMPLO DE VECTOR DE K^5 QUE NO PERTENECE A V:"
   ]
  },
  {
   "cell_type": "code",
   "execution_count": 23,
   "metadata": {},
   "outputs": [
    {
     "data": {
      "text/html": [
       "<html><script type=\"math/tex; mode=display\">\\newcommand{\\Bold}[1]{\\mathbf{#1}}\\left(\\begin{array}{r}\n",
       "0 \\\\\n",
       "0 \\\\\n",
       "0 \\\\\n",
       "1 \\\\\n",
       "0\n",
       "\\end{array}\\right)</script></html>"
      ],
      "text/plain": [
       "[0]\n",
       "[0]\n",
       "[0]\n",
       "[1]\n",
       "[0]"
      ]
     },
     "metadata": {},
     "output_type": "display_data"
    }
   ],
   "source": [
    "z=column_matrix(Zmod(5),[0,0,0,1,0]); show(z)"
   ]
  },
  {
   "cell_type": "code",
   "execution_count": 24,
   "metadata": {},
   "outputs": [
    {
     "data": {
      "text/html": [
       "<html><script type=\"math/tex; mode=display\">\\newcommand{\\Bold}[1]{\\mathbf{#1}}\\left(\\begin{array}{r}\n",
       "0 \\\\\n",
       "1\n",
       "\\end{array}\\right)</script></html>"
      ],
      "text/plain": [
       "[0]\n",
       "[1]"
      ]
     },
     "metadata": {},
     "output_type": "display_data"
    }
   ],
   "source": [
    "show(H*z) # El vector z no pertenece a V porque H*z es distinto de 0:"
   ]
  }
 ],
 "metadata": {
  "kernelspec": {
   "display_name": "SageMath 9.1",
   "language": "sage",
   "name": "sagemath"
  },
  "language_info": {
   "codemirror_mode": {
    "name": "ipython",
    "version": 3
   },
   "file_extension": ".py",
   "mimetype": "text/x-python",
   "name": "python",
   "nbconvert_exporter": "python",
   "pygments_lexer": "ipython3",
   "version": "3.7.3"
  }
 },
 "nbformat": 4,
 "nbformat_minor": 2
}
