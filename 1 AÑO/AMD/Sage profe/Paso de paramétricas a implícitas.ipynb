{
 "cells": [
  {
   "cell_type": "markdown",
   "metadata": {},
   "source": [
    "# Paso de paramétricas a implícitas"
   ]
  },
  {
   "cell_type": "markdown",
   "metadata": {},
   "source": [
    "Ejercicio 52 (t16)"
   ]
  },
  {
   "cell_type": "code",
   "execution_count": 7,
   "metadata": {},
   "outputs": [],
   "source": [
    "# Vamos a buscar unas ecuaciones implícitas del espacio vectorial C(B)\n",
    "# generado por las columnas de la siguiente matriz B:"
   ]
  },
  {
   "cell_type": "code",
   "execution_count": 12,
   "metadata": {},
   "outputs": [
    {
     "data": {
      "text/html": [
       "<html><script type=\"math/tex; mode=display\">\\newcommand{\\Bold}[1]{\\mathbf{#1}}\\left(\\begin{array}{rr}\n",
       "2 & 2 \\\\\n",
       "1 & 0 \\\\\n",
       "2 & 0 \\\\\n",
       "0 & 1\n",
       "\\end{array}\\right)</script></html>"
      ],
      "text/plain": [
       "[2 2]\n",
       "[1 0]\n",
       "[2 0]\n",
       "[0 1]"
      ]
     },
     "metadata": {},
     "output_type": "display_data"
    }
   ],
   "source": [
    "B=column_matrix(Zmod(3),[[2,1,2,0],[2,0,0,1]]); show(B)"
   ]
  },
  {
   "cell_type": "code",
   "execution_count": 9,
   "metadata": {},
   "outputs": [
    {
     "data": {
      "text/html": [
       "<html><script type=\"math/tex; mode=display\">\\newcommand{\\Bold}[1]{\\mathbf{#1}}\\left(\\begin{array}{rr|rrrr}\n",
       "2 & 2 & 1 & 0 & 0 & 0 \\\\\n",
       "1 & 0 & 0 & 1 & 0 & 0 \\\\\n",
       "2 & 0 & 0 & 0 & 1 & 0 \\\\\n",
       "0 & 1 & 0 & 0 & 0 & 1\n",
       "\\end{array}\\right)</script></html>"
      ],
      "text/plain": [
       "[2 2|1 0 0 0]\n",
       "[1 0|0 1 0 0]\n",
       "[2 0|0 0 1 0]\n",
       "[0 1|0 0 0 1]"
      ]
     },
     "metadata": {},
     "output_type": "display_data"
    }
   ],
   "source": [
    "BB=block_matrix([[B,1]]); show(BB)"
   ]
  },
  {
   "cell_type": "code",
   "execution_count": 10,
   "metadata": {},
   "outputs": [
    {
     "data": {
      "text/html": [
       "<html><script type=\"math/tex; mode=display\">\\newcommand{\\Bold}[1]{\\mathbf{#1}}\\left(\\begin{array}{rr|rrrr}\n",
       "1 & 0 & 0 & 0 & 2 & 0 \\\\\n",
       "0 & 1 & 0 & 0 & 0 & 1 \\\\\n",
       "0 & 0 & 1 & 0 & 2 & 1 \\\\\n",
       "0 & 0 & 0 & 1 & 1 & 0\n",
       "\\end{array}\\right)</script></html>"
      ],
      "text/plain": [
       "[1 0|0 0 2 0]\n",
       "[0 1|0 0 0 1]\n",
       "[0 0|1 0 2 1]\n",
       "[0 0|0 1 1 0]"
      ]
     },
     "metadata": {},
     "output_type": "display_data"
    }
   ],
   "source": [
    "R=BB.echelon_form(); show(R)"
   ]
  },
  {
   "cell_type": "code",
   "execution_count": 11,
   "metadata": {},
   "outputs": [
    {
     "data": {
      "text/html": [
       "<html><script type=\"math/tex; mode=display\">\\newcommand{\\Bold}[1]{\\mathbf{#1}}\\left(\\begin{array}{rr|rrrr}\n",
       "1 & 0 & 0 & 0 & 2 & 0 \\\\\n",
       "0 & 1 & 0 & 0 & 0 & 1 \\\\\n",
       "\\hline\n",
       " 0 & 0 & 1 & 0 & 2 & 1 \\\\\n",
       "0 & 0 & 0 & 1 & 1 & 0\n",
       "\\end{array}\\right)</script></html>"
      ],
      "text/plain": [
       "[1 0|0 0 2 0]\n",
       "[0 1|0 0 0 1]\n",
       "[---+-------]\n",
       "[0 0|1 0 2 1]\n",
       "[0 0|0 1 1 0]"
      ]
     },
     "metadata": {},
     "output_type": "display_data"
    }
   ],
   "source": [
    "R=copy(R); R.subdivide([2],[2]); show(R)"
   ]
  },
  {
   "cell_type": "code",
   "execution_count": 6,
   "metadata": {},
   "outputs": [
    {
     "data": {
      "text/html": [
       "<html><script type=\"math/tex; mode=display\">\\newcommand{\\Bold}[1]{\\mathbf{#1}}\\left(\\begin{array}{rrrr}\n",
       "1 & 0 & 2 & 1 \\\\\n",
       "0 & 1 & 1 & 0\n",
       "\\end{array}\\right)</script></html>"
      ],
      "text/plain": [
       "[1 0 2 1]\n",
       "[0 1 1 0]"
      ]
     },
     "metadata": {},
     "output_type": "display_data"
    }
   ],
   "source": [
    "H=R.subdivision(1,1); show(H)"
   ]
  },
  {
   "cell_type": "code",
   "execution_count": null,
   "metadata": {},
   "outputs": [],
   "source": [
    "# Tenemos entonces que C(B) = N(H), luego unas ecuaciones implícitas de C(B) son:\n",
    "#    y_1 + 2y_3 + y_4 = 0,\n",
    "#    y_2 + y_3 = 0."
   ]
  }
 ],
 "metadata": {
  "kernelspec": {
   "display_name": "SageMath 9.1",
   "language": "sage",
   "name": "sagemath"
  },
  "language_info": {
   "codemirror_mode": {
    "name": "ipython",
    "version": 3
   },
   "file_extension": ".py",
   "mimetype": "text/x-python",
   "name": "python",
   "nbconvert_exporter": "python",
   "pygments_lexer": "ipython3",
   "version": "3.7.3"
  }
 },
 "nbformat": 4,
 "nbformat_minor": 2
}
