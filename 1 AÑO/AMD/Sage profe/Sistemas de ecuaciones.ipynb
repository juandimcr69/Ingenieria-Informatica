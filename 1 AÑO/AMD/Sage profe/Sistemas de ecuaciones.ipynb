{
 "cells": [
  {
   "cell_type": "markdown",
   "metadata": {},
   "source": [
    "# Sistemas de ecuaciones"
   ]
  },
  {
   "cell_type": "markdown",
   "metadata": {},
   "source": [
    "Sistema compatible determinado"
   ]
  },
  {
   "cell_type": "code",
   "execution_count": 1,
   "metadata": {},
   "outputs": [],
   "source": [
    "A1=matrix(QQ,[[1,2,3],[2,-1,1/5],[1/3,2,-1/7]]) # matriz de coeficientes"
   ]
  },
  {
   "cell_type": "code",
   "execution_count": 2,
   "metadata": {},
   "outputs": [
    {
     "data": {
      "text/html": [
       "<html><script type=\"math/tex; mode=display\">\\newcommand{\\Bold}[1]{\\mathbf{#1}}\\left(\\begin{array}{rrr}\n",
       "1 & 2 & 3 \\\\\n",
       "2 & -1 & \\frac{1}{5} \\\\\n",
       "\\frac{1}{3} & 2 & -\\frac{1}{7}\n",
       "\\end{array}\\right)</script></html>"
      ],
      "text/plain": [
       "[   1    2    3]\n",
       "[   2   -1  1/5]\n",
       "[ 1/3    2 -1/7]"
      ]
     },
     "metadata": {},
     "output_type": "display_data"
    }
   ],
   "source": [
    "show(A1)"
   ]
  },
  {
   "cell_type": "code",
   "execution_count": 2,
   "metadata": {},
   "outputs": [],
   "source": [
    "B=column_matrix(QQ,[33,-1/4,2/7]) # términos independientes"
   ]
  },
  {
   "cell_type": "code",
   "execution_count": 4,
   "metadata": {},
   "outputs": [
    {
     "data": {
      "text/html": [
       "<html><script type=\"math/tex; mode=display\">\\newcommand{\\Bold}[1]{\\mathbf{#1}}\\left(\\begin{array}{r}\n",
       "33 \\\\\n",
       "-\\frac{1}{4} \\\\\n",
       "\\frac{2}{7}\n",
       "\\end{array}\\right)</script></html>"
      ],
      "text/plain": [
       "[  33]\n",
       "[-1/4]\n",
       "[ 2/7]"
      ]
     },
     "metadata": {},
     "output_type": "display_data"
    }
   ],
   "source": [
    "show(B)"
   ]
  },
  {
   "cell_type": "code",
   "execution_count": 3,
   "metadata": {},
   "outputs": [],
   "source": [
    "C1=block_matrix([[A1,B]]) # matriz ampliada"
   ]
  },
  {
   "cell_type": "code",
   "execution_count": 4,
   "metadata": {},
   "outputs": [
    {
     "data": {
      "text/html": [
       "<html><script type=\"math/tex; mode=display\">\\newcommand{\\Bold}[1]{\\mathbf{#1}}\\left(\\begin{array}{rrr|r}\n",
       "1 & 2 & 3 & 33 \\\\\n",
       "2 & -1 & \\frac{1}{5} & -\\frac{1}{4} \\\\\n",
       "\\frac{1}{3} & 2 & -\\frac{1}{7} & \\frac{2}{7}\n",
       "\\end{array}\\right)</script></html>"
      ],
      "text/plain": [
       "[   1    2    3|  33]\n",
       "[   2   -1  1/5|-1/4]\n",
       "[ 1/3    2 -1/7| 2/7]"
      ]
     },
     "metadata": {},
     "output_type": "display_data"
    }
   ],
   "source": [
    "show(C1)"
   ]
  },
  {
   "cell_type": "code",
   "execution_count": 5,
   "metadata": {},
   "outputs": [],
   "source": [
    "D1=C1.echelon_form() # reducida por filas de C1"
   ]
  },
  {
   "cell_type": "code",
   "execution_count": 6,
   "metadata": {},
   "outputs": [
    {
     "data": {
      "text/html": [
       "<html><script type=\"math/tex; mode=display\">\\newcommand{\\Bold}[1]{\\mathbf{#1}}\\left(\\begin{array}{rrr|r}\n",
       "1 & 0 & 0 & -\\frac{477}{706} \\\\\n",
       "0 & 1 & 0 & \\frac{1425}{1412} \\\\\n",
       "0 & 0 & 1 & \\frac{3725}{353}\n",
       "\\end{array}\\right)</script></html>"
      ],
      "text/plain": [
       "[        1         0         0| -477/706]\n",
       "[        0         1         0|1425/1412]\n",
       "[        0         0         1| 3725/353]"
      ]
     },
     "metadata": {},
     "output_type": "display_data"
    }
   ],
   "source": [
    "show(D1)"
   ]
  },
  {
   "cell_type": "code",
   "execution_count": 9,
   "metadata": {},
   "outputs": [],
   "source": [
    "# Todas las columnas de la parte de los coeficientes son pivote,\n",
    "# y la columna de los términos independientes no es pivote,\n",
    "# así que el sistema es compatible determinado, con única solución:"
   ]
  },
  {
   "cell_type": "code",
   "execution_count": 7,
   "metadata": {},
   "outputs": [],
   "source": [
    "sol=D1[:,3] # extraemos la última columna de matriz reducida\n",
    "            # NOTA: en SAGE la primera fila/columna de una matriz es la 0"
   ]
  },
  {
   "cell_type": "code",
   "execution_count": 8,
   "metadata": {},
   "outputs": [
    {
     "data": {
      "text/html": [
       "<html><script type=\"math/tex; mode=display\">\\newcommand{\\Bold}[1]{\\mathbf{#1}}\\left(\\begin{array}{r}\n",
       "-\\frac{477}{706} \\\\\n",
       "\\frac{1425}{1412} \\\\\n",
       "\\frac{3725}{353}\n",
       "\\end{array}\\right)</script></html>"
      ],
      "text/plain": [
       "[ -477/706]\n",
       "[1425/1412]\n",
       "[ 3725/353]"
      ]
     },
     "metadata": {},
     "output_type": "display_data"
    }
   ],
   "source": [
    "show(sol)"
   ]
  },
  {
   "cell_type": "markdown",
   "metadata": {},
   "source": [
    "Sistema incompatible"
   ]
  },
  {
   "cell_type": "code",
   "execution_count": 9,
   "metadata": {},
   "outputs": [],
   "source": [
    "A2=matrix(QQ,[[1,2,3],[2,-1,1/5],[4,-2,2/5]])"
   ]
  },
  {
   "cell_type": "code",
   "execution_count": 11,
   "metadata": {},
   "outputs": [
    {
     "data": {
      "text/html": [
       "<html><script type=\"math/tex; mode=display\">\\newcommand{\\Bold}[1]{\\mathbf{#1}}\\left(\\begin{array}{rrr|r}\n",
       "1 & 2 & 3 & 33 \\\\\n",
       "2 & -1 & \\frac{1}{5} & -\\frac{1}{4} \\\\\n",
       "4 & -2 & \\frac{2}{5} & \\frac{2}{7}\n",
       "\\end{array}\\right)</script></html>"
      ],
      "text/plain": [
       "[   1    2    3|  33]\n",
       "[   2   -1  1/5|-1/4]\n",
       "[   4   -2  2/5| 2/7]"
      ]
     },
     "metadata": {},
     "output_type": "display_data"
    }
   ],
   "source": [
    "C2=block_matrix([[A2,B]]); show(C2) # matriz ampliada"
   ]
  },
  {
   "cell_type": "code",
   "execution_count": 12,
   "metadata": {},
   "outputs": [
    {
     "data": {
      "text/html": [
       "<html><script type=\"math/tex; mode=display\">\\newcommand{\\Bold}[1]{\\mathbf{#1}}\\left(\\begin{array}{rrr|r}\n",
       "1 & 0 & \\frac{17}{25} & 0 \\\\\n",
       "0 & 1 & \\frac{29}{25} & 0 \\\\\n",
       "0 & 0 & 0 & 1\n",
       "\\end{array}\\right)</script></html>"
      ],
      "text/plain": [
       "[    1     0 17/25|    0]\n",
       "[    0     1 29/25|    0]\n",
       "[    0     0     0|    1]"
      ]
     },
     "metadata": {},
     "output_type": "display_data"
    }
   ],
   "source": [
    "D2=C2.echelon_form(); show(D2) # reducida por filas de C2"
   ]
  },
  {
   "cell_type": "code",
   "execution_count": 16,
   "metadata": {},
   "outputs": [],
   "source": [
    "# Como la columna de los términos independientes es pivote, el sistema no tiene solución."
   ]
  },
  {
   "cell_type": "markdown",
   "metadata": {},
   "source": [
    "Sistema compatible indeterminado"
   ]
  },
  {
   "cell_type": "code",
   "execution_count": 14,
   "metadata": {},
   "outputs": [],
   "source": [
    "B3=column_matrix(QQ,[33,-1/4,-1/2])"
   ]
  },
  {
   "cell_type": "code",
   "execution_count": 15,
   "metadata": {},
   "outputs": [
    {
     "data": {
      "text/html": [
       "<html><script type=\"math/tex; mode=display\">\\newcommand{\\Bold}[1]{\\mathbf{#1}}\\left(\\begin{array}{rrr|r}\n",
       "1 & 2 & 3 & 33 \\\\\n",
       "2 & -1 & \\frac{1}{5} & -\\frac{1}{4} \\\\\n",
       "4 & -2 & \\frac{2}{5} & -\\frac{1}{2}\n",
       "\\end{array}\\right)</script></html>"
      ],
      "text/plain": [
       "[   1    2    3|  33]\n",
       "[   2   -1  1/5|-1/4]\n",
       "[   4   -2  2/5|-1/2]"
      ]
     },
     "metadata": {},
     "output_type": "display_data"
    }
   ],
   "source": [
    "C3=block_matrix([[A2,B3]]); show(C3) # matriz ampliada"
   ]
  },
  {
   "cell_type": "code",
   "execution_count": 16,
   "metadata": {},
   "outputs": [
    {
     "data": {
      "text/html": [
       "<html><script type=\"math/tex; mode=display\">\\newcommand{\\Bold}[1]{\\mathbf{#1}}\\left(\\begin{array}{rrr|r}\n",
       "1 & 0 & \\frac{17}{25} & \\frac{13}{2} \\\\\n",
       "0 & 1 & \\frac{29}{25} & \\frac{53}{4} \\\\\n",
       "0 & 0 & 0 & 0\n",
       "\\end{array}\\right)</script></html>"
      ],
      "text/plain": [
       "[    1     0 17/25| 13/2]\n",
       "[    0     1 29/25| 53/4]\n",
       "[    0     0     0|    0]"
      ]
     },
     "metadata": {},
     "output_type": "display_data"
    }
   ],
   "source": [
    "D3=C3.echelon_form(); show(D3) # reducida por filas de C3"
   ]
  },
  {
   "cell_type": "code",
   "execution_count": 20,
   "metadata": {},
   "outputs": [],
   "source": [
    "# La columna de los términos independientes no es pivote,\n",
    "# y una columna de la parte de los coeficientes tampoco lo es (la tercera),\n",
    "# luego el sistema es compatible indeterminado."
   ]
  },
  {
   "cell_type": "code",
   "execution_count": 21,
   "metadata": {},
   "outputs": [],
   "source": [
    "# Las soluciones del sistema son los vectores de la forma\n",
    "# (13/2-17/25*t,53/4-29/25*t,t) con t en R."
   ]
  }
 ],
 "metadata": {
  "kernelspec": {
   "display_name": "SageMath 9.1",
   "language": "sage",
   "name": "sagemath"
  },
  "language_info": {
   "codemirror_mode": {
    "name": "ipython",
    "version": 3
   },
   "file_extension": ".py",
   "mimetype": "text/x-python",
   "name": "python",
   "nbconvert_exporter": "python",
   "pygments_lexer": "ipython3",
   "version": "3.7.3"
  }
 },
 "nbformat": 4,
 "nbformat_minor": 2
}
