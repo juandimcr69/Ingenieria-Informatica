{
 "cells": [
  {
   "cell_type": "markdown",
   "metadata": {},
   "source": [
    "# Ejercicio 5e - Hoja 3"
   ]
  },
  {
   "cell_type": "code",
   "execution_count": 1,
   "metadata": {},
   "outputs": [],
   "source": [
    "# Consideramos el espacio W=N(H) anulador por la derecha de la matriz:"
   ]
  },
  {
   "cell_type": "code",
   "execution_count": 2,
   "metadata": {},
   "outputs": [
    {
     "data": {
      "text/html": [
       "<html><script type=\"math/tex; mode=display\">\\newcommand{\\Bold}[1]{\\mathbf{#1}}\\left(\\begin{array}{rrrr}\n",
       "2 & 1 & 0 & 2 \\\\\n",
       "1 & -1 & 1 & 0 \\\\\n",
       "2 & 0 & 1 & -1\n",
       "\\end{array}\\right)</script></html>"
      ],
      "text/plain": [
       "[ 2  1  0  2]\n",
       "[ 1 -1  1  0]\n",
       "[ 2  0  1 -1]"
      ]
     },
     "metadata": {},
     "output_type": "display_data"
    }
   ],
   "source": [
    "H=matrix(QQ,[[2,1,0,2],[1,-1,1,0],[2,0,1,-1]]); show(H)"
   ]
  },
  {
   "cell_type": "code",
   "execution_count": 3,
   "metadata": {},
   "outputs": [],
   "source": [
    "# Sabemos que el ortogonal de W es el espacio C(H^T), es decir, el generado por las columnas de la matriz:"
   ]
  },
  {
   "cell_type": "code",
   "execution_count": 4,
   "metadata": {},
   "outputs": [
    {
     "data": {
      "text/html": [
       "<html><script type=\"math/tex; mode=display\">\\newcommand{\\Bold}[1]{\\mathbf{#1}}\\left(\\begin{array}{rrr}\n",
       "2 & 1 & 2 \\\\\n",
       "1 & -1 & 0 \\\\\n",
       "0 & 1 & 1 \\\\\n",
       "2 & 0 & -1\n",
       "\\end{array}\\right)</script></html>"
      ],
      "text/plain": [
       "[ 2  1  2]\n",
       "[ 1 -1  0]\n",
       "[ 0  1  1]\n",
       "[ 2  0 -1]"
      ]
     },
     "metadata": {},
     "output_type": "display_data"
    }
   ],
   "source": [
    "show(H.T)"
   ]
  },
  {
   "cell_type": "code",
   "execution_count": 5,
   "metadata": {},
   "outputs": [],
   "source": [
    "# Para calcular una base ortogonal del espacio C(H^T) aplicamos Gram-Schmidt:"
   ]
  },
  {
   "cell_type": "code",
   "execution_count": 6,
   "metadata": {},
   "outputs": [
    {
     "data": {
      "text/html": [
       "<html><script type=\"math/tex; mode=display\">\\newcommand{\\Bold}[1]{\\mathbf{#1}}\\left(2,\\,1,\\,0,\\,2\\right)</script></html>"
      ],
      "text/plain": [
       "(2, 1, 0, 2)"
      ]
     },
     "metadata": {},
     "output_type": "display_data"
    }
   ],
   "source": [
    "v1=vector(H.T[:,0]); show(v1)"
   ]
  },
  {
   "cell_type": "code",
   "execution_count": 7,
   "metadata": {},
   "outputs": [
    {
     "data": {
      "text/html": [
       "<html><script type=\"math/tex; mode=display\">\\newcommand{\\Bold}[1]{\\mathbf{#1}}\\left(1,\\,-1,\\,1,\\,0\\right)</script></html>"
      ],
      "text/plain": [
       "(1, -1, 1, 0)"
      ]
     },
     "metadata": {},
     "output_type": "display_data"
    }
   ],
   "source": [
    "v2=vector(H.T[:,1]); show(v2)"
   ]
  },
  {
   "cell_type": "code",
   "execution_count": 8,
   "metadata": {},
   "outputs": [
    {
     "data": {
      "text/html": [
       "<html><script type=\"math/tex; mode=display\">\\newcommand{\\Bold}[1]{\\mathbf{#1}}\\left(2,\\,0,\\,1,\\,-1\\right)</script></html>"
      ],
      "text/plain": [
       "(2, 0, 1, -1)"
      ]
     },
     "metadata": {},
     "output_type": "display_data"
    }
   ],
   "source": [
    "v3=vector(H.T[:,2]); show(v3)"
   ]
  },
  {
   "cell_type": "code",
   "execution_count": 10,
   "metadata": {},
   "outputs": [],
   "source": [
    "w1=v1"
   ]
  },
  {
   "cell_type": "code",
   "execution_count": 11,
   "metadata": {},
   "outputs": [],
   "source": [
    "w2=v2-((v2*w1)/norm(w1)^2)*w1"
   ]
  },
  {
   "cell_type": "code",
   "execution_count": 12,
   "metadata": {},
   "outputs": [],
   "source": [
    "w3=v3-((v3*w1)/norm(w1)^2)*w1-((v3*w2)/norm(w2)^2)*w2"
   ]
  },
  {
   "cell_type": "code",
   "execution_count": 13,
   "metadata": {},
   "outputs": [
    {
     "data": {
      "text/html": [
       "<html><script type=\"math/tex; mode=display\">\\newcommand{\\Bold}[1]{\\mathbf{#1}}\\left(2,\\,1,\\,0,\\,2\\right)</script></html>"
      ],
      "text/plain": [
       "(2, 1, 0, 2)"
      ]
     },
     "metadata": {},
     "output_type": "display_data"
    }
   ],
   "source": [
    "show(w1)"
   ]
  },
  {
   "cell_type": "code",
   "execution_count": 14,
   "metadata": {},
   "outputs": [
    {
     "data": {
      "text/html": [
       "<html><script type=\"math/tex; mode=display\">\\newcommand{\\Bold}[1]{\\mathbf{#1}}\\left(\\frac{7}{9},\\,-\\frac{10}{9},\\,1,\\,-\\frac{2}{9}\\right)</script></html>"
      ],
      "text/plain": [
       "(7/9, -10/9, 1, -2/9)"
      ]
     },
     "metadata": {},
     "output_type": "display_data"
    }
   ],
   "source": [
    "show(w2)"
   ]
  },
  {
   "cell_type": "code",
   "execution_count": 15,
   "metadata": {},
   "outputs": [
    {
     "data": {
      "text/html": [
       "<html><script type=\"math/tex; mode=display\">\\newcommand{\\Bold}[1]{\\mathbf{#1}}\\left(\\frac{21}{26},\\,\\frac{11}{13},\\,\\frac{1}{26},\\,-\\frac{16}{13}\\right)</script></html>"
      ],
      "text/plain": [
       "(21/26, 11/13, 1/26, -16/13)"
      ]
     },
     "metadata": {},
     "output_type": "display_data"
    }
   ],
   "source": [
    "show(w3)"
   ]
  },
  {
   "cell_type": "code",
   "execution_count": 16,
   "metadata": {},
   "outputs": [],
   "source": [
    "# Así que una base ortogonal del \"espacio ortogonal a W\" está formada por las columnas de la matriz:"
   ]
  },
  {
   "cell_type": "code",
   "execution_count": 17,
   "metadata": {},
   "outputs": [
    {
     "data": {
      "text/html": [
       "<html><script type=\"math/tex; mode=display\">\\newcommand{\\Bold}[1]{\\mathbf{#1}}\\left(\\begin{array}{rrr}\n",
       "2 & \\frac{7}{9} & \\frac{21}{26} \\\\\n",
       "1 & -\\frac{10}{9} & \\frac{11}{13} \\\\\n",
       "0 & 1 & \\frac{1}{26} \\\\\n",
       "2 & -\\frac{2}{9} & -\\frac{16}{13}\n",
       "\\end{array}\\right)</script></html>"
      ],
      "text/plain": [
       "[     2    7/9  21/26]\n",
       "[     1  -10/9  11/13]\n",
       "[     0      1   1/26]\n",
       "[     2   -2/9 -16/13]"
      ]
     },
     "metadata": {},
     "output_type": "display_data"
    }
   ],
   "source": [
    "B=column_matrix([w1,w2,w3]); show(B)"
   ]
  },
  {
   "cell_type": "code",
   "execution_count": 18,
   "metadata": {},
   "outputs": [],
   "source": [
    "# Comprobación de la ortogonalidad de la base:"
   ]
  },
  {
   "cell_type": "code",
   "execution_count": 21,
   "metadata": {},
   "outputs": [
    {
     "data": {
      "text/html": [
       "<html><script type=\"math/tex; mode=display\">\\newcommand{\\Bold}[1]{\\mathbf{#1}}\\left(\\begin{array}{rrr}\n",
       "9 & 0 & 0 \\\\\n",
       "0 & \\frac{26}{9} & 0 \\\\\n",
       "0 & 0 & \\frac{75}{26}\n",
       "\\end{array}\\right)</script></html>"
      ],
      "text/plain": [
       "[    9     0     0]\n",
       "[    0  26/9     0]\n",
       "[    0     0 75/26]"
      ]
     },
     "metadata": {},
     "output_type": "display_data"
    }
   ],
   "source": [
    "show(B.T*B) # Vemos que sale una matriz diagonal."
   ]
  }
 ],
 "metadata": {
  "kernelspec": {
   "display_name": "SageMath 9.1",
   "language": "sage",
   "name": "sagemath"
  },
  "language_info": {
   "codemirror_mode": {
    "name": "ipython",
    "version": 3
   },
   "file_extension": ".py",
   "mimetype": "text/x-python",
   "name": "python",
   "nbconvert_exporter": "python",
   "pygments_lexer": "ipython3",
   "version": "3.7.3"
  }
 },
 "nbformat": 4,
 "nbformat_minor": 2
}
