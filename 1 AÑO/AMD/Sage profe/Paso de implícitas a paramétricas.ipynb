{
 "cells": [
  {
   "cell_type": "markdown",
   "metadata": {},
   "source": [
    "# Paso de implícitas a paramétricas"
   ]
  },
  {
   "cell_type": "markdown",
   "metadata": {},
   "source": [
    "Ejercicio 86 (t16)"
   ]
  },
  {
   "cell_type": "code",
   "execution_count": 1,
   "metadata": {},
   "outputs": [],
   "source": [
    "# Vamos a buscar una representación paramétrica del espacio vectorial N(H), siendo:"
   ]
  },
  {
   "cell_type": "code",
   "execution_count": 2,
   "metadata": {},
   "outputs": [
    {
     "data": {
      "text/html": [
       "<html><script type=\"math/tex; mode=display\">\\newcommand{\\Bold}[1]{\\mathbf{#1}}\\left(\\begin{array}{rrrr}\n",
       "1 & 0 & 0 & 1 \\\\\n",
       "3 & 1 & 2 & 1\n",
       "\\end{array}\\right)</script></html>"
      ],
      "text/plain": [
       "[1 0 0 1]\n",
       "[3 1 2 1]"
      ]
     },
     "metadata": {},
     "output_type": "display_data"
    }
   ],
   "source": [
    "H=matrix(Zmod(5),[[1,0,0,1],[3,1,2,1]]); show(H)"
   ]
  },
  {
   "cell_type": "code",
   "execution_count": 4,
   "metadata": {},
   "outputs": [
    {
     "data": {
      "text/html": [
       "<html><script type=\"math/tex; mode=display\">\\newcommand{\\Bold}[1]{\\mathbf{#1}}\\left(\\begin{array}{rr|rrrr}\n",
       "1 & 3 & 1 & 0 & 0 & 0 \\\\\n",
       "0 & 1 & 0 & 1 & 0 & 0 \\\\\n",
       "0 & 2 & 0 & 0 & 1 & 0 \\\\\n",
       "1 & 1 & 0 & 0 & 0 & 1\n",
       "\\end{array}\\right)</script></html>"
      ],
      "text/plain": [
       "[1 3|1 0 0 0]\n",
       "[0 1|0 1 0 0]\n",
       "[0 2|0 0 1 0]\n",
       "[1 1|0 0 0 1]"
      ]
     },
     "metadata": {},
     "output_type": "display_data"
    }
   ],
   "source": [
    "HH=block_matrix([[H.T,1]]); show(HH) # Trabajamos con la traspuesta de H."
   ]
  },
  {
   "cell_type": "code",
   "execution_count": 5,
   "metadata": {},
   "outputs": [
    {
     "data": {
      "text/html": [
       "<html><script type=\"math/tex; mode=display\">\\newcommand{\\Bold}[1]{\\mathbf{#1}}\\left(\\begin{array}{rr|rrrr}\n",
       "1 & 0 & 0 & 0 & 2 & 1 \\\\\n",
       "0 & 1 & 0 & 0 & 3 & 0 \\\\\n",
       "0 & 0 & 1 & 0 & 4 & 4 \\\\\n",
       "0 & 0 & 0 & 1 & 2 & 0\n",
       "\\end{array}\\right)</script></html>"
      ],
      "text/plain": [
       "[1 0|0 0 2 1]\n",
       "[0 1|0 0 3 0]\n",
       "[0 0|1 0 4 4]\n",
       "[0 0|0 1 2 0]"
      ]
     },
     "metadata": {},
     "output_type": "display_data"
    }
   ],
   "source": [
    "R=HH.echelon_form(); show(R)"
   ]
  },
  {
   "cell_type": "code",
   "execution_count": 6,
   "metadata": {},
   "outputs": [
    {
     "data": {
      "text/html": [
       "<html><script type=\"math/tex; mode=display\">\\newcommand{\\Bold}[1]{\\mathbf{#1}}\\left(\\begin{array}{rr|rrrr}\n",
       "1 & 0 & 0 & 0 & 2 & 1 \\\\\n",
       "0 & 1 & 0 & 0 & 3 & 0 \\\\\n",
       "\\hline\n",
       " 0 & 0 & 1 & 0 & 4 & 4 \\\\\n",
       "0 & 0 & 0 & 1 & 2 & 0\n",
       "\\end{array}\\right)</script></html>"
      ],
      "text/plain": [
       "[1 0|0 0 2 1]\n",
       "[0 1|0 0 3 0]\n",
       "[---+-------]\n",
       "[0 0|1 0 4 4]\n",
       "[0 0|0 1 2 0]"
      ]
     },
     "metadata": {},
     "output_type": "display_data"
    }
   ],
   "source": [
    "R=copy(R); R.subdivide([2],[2]); show(R)"
   ]
  },
  {
   "cell_type": "code",
   "execution_count": 7,
   "metadata": {},
   "outputs": [
    {
     "data": {
      "text/html": [
       "<html><script type=\"math/tex; mode=display\">\\newcommand{\\Bold}[1]{\\mathbf{#1}}\\left(\\begin{array}{rrrr}\n",
       "1 & 0 & 4 & 4 \\\\\n",
       "0 & 1 & 2 & 0\n",
       "\\end{array}\\right)</script></html>"
      ],
      "text/plain": [
       "[1 0 4 4]\n",
       "[0 1 2 0]"
      ]
     },
     "metadata": {},
     "output_type": "display_data"
    }
   ],
   "source": [
    "J=R.subdivision(1,1); show(J)"
   ]
  },
  {
   "cell_type": "code",
   "execution_count": 8,
   "metadata": {},
   "outputs": [],
   "source": [
    "# Sabemos entonces que N(H)=C(B), siendo:"
   ]
  },
  {
   "cell_type": "code",
   "execution_count": 9,
   "metadata": {},
   "outputs": [
    {
     "data": {
      "text/html": [
       "<html><script type=\"math/tex; mode=display\">\\newcommand{\\Bold}[1]{\\mathbf{#1}}\\left(\\begin{array}{rr}\n",
       "1 & 0 \\\\\n",
       "0 & 1 \\\\\n",
       "4 & 2 \\\\\n",
       "4 & 0\n",
       "\\end{array}\\right)</script></html>"
      ],
      "text/plain": [
       "[1 0]\n",
       "[0 1]\n",
       "[4 2]\n",
       "[4 0]"
      ]
     },
     "metadata": {},
     "output_type": "display_data"
    }
   ],
   "source": [
    "B=J.T; show(B)"
   ]
  }
 ],
 "metadata": {
  "kernelspec": {
   "display_name": "SageMath 9.1",
   "language": "sage",
   "name": "sagemath"
  },
  "language_info": {
   "codemirror_mode": {
    "name": "ipython",
    "version": 3
   },
   "file_extension": ".py",
   "mimetype": "text/x-python",
   "name": "python",
   "nbconvert_exporter": "python",
   "pygments_lexer": "ipython3",
   "version": "3.7.3"
  }
 },
 "nbformat": 4,
 "nbformat_minor": 2
}
