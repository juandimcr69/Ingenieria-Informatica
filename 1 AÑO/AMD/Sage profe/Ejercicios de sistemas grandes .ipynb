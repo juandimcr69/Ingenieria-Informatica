{
 "cells": [
  {
   "cell_type": "markdown",
   "metadata": {},
   "source": [
    "# Ejercicios de sistemas \"grandes\""
   ]
  },
  {
   "cell_type": "markdown",
   "metadata": {},
   "source": [
    "Ejercicio 1"
   ]
  },
  {
   "cell_type": "code",
   "execution_count": 4,
   "metadata": {},
   "outputs": [],
   "source": [
    "# Consideramos el sistema de ecuaciones con la siguiente matriz ampliada:"
   ]
  },
  {
   "cell_type": "code",
   "execution_count": 5,
   "metadata": {},
   "outputs": [],
   "source": [
    "AB = matrix(QQ,6,7,[[2,2,1,4,-2,-2,-2],[-1,3/2,-2,-3,-2,-2,0],[0,2,-6,-6,5,1,-1],[5/2,-5/2,-3/2,1,1,0,0],[-6,3/2,2,-5,-5,1,0],[-6,2,3,-4,-2,2,-1/2]])"
   ]
  },
  {
   "cell_type": "code",
   "execution_count": 2,
   "metadata": {},
   "outputs": [
    {
     "data": {
      "text/html": [
       "<html><script type=\"math/tex; mode=display\">\\newcommand{\\Bold}[1]{\\mathbf{#1}}\\left(\\begin{array}{rrrrrrr}\n",
       "2 & 2 & 1 & 4 & -2 & -2 & -2 \\\\\n",
       "-1 & \\frac{3}{2} & -2 & -3 & -2 & -2 & 0 \\\\\n",
       "0 & 2 & -6 & -6 & 5 & 1 & -1 \\\\\n",
       "\\frac{5}{2} & -\\frac{5}{2} & -\\frac{3}{2} & 1 & 1 & 0 & 0 \\\\\n",
       "-6 & \\frac{3}{2} & 2 & -5 & -5 & 1 & 0 \\\\\n",
       "-6 & 2 & 3 & -4 & -2 & 2 & -\\frac{1}{2}\n",
       "\\end{array}\\right)</script></html>"
      ],
      "text/plain": [
       "[   2    2    1    4   -2   -2   -2]\n",
       "[  -1  3/2   -2   -3   -2   -2    0]\n",
       "[   0    2   -6   -6    5    1   -1]\n",
       "[ 5/2 -5/2 -3/2    1    1    0    0]\n",
       "[  -6  3/2    2   -5   -5    1    0]\n",
       "[  -6    2    3   -4   -2    2 -1/2]"
      ]
     },
     "metadata": {},
     "output_type": "display_data"
    }
   ],
   "source": [
    "show(AB)"
   ]
  },
  {
   "cell_type": "code",
   "execution_count": 6,
   "metadata": {},
   "outputs": [],
   "source": [
    "# Calculamos la correspondiente matriz reducida por filas:"
   ]
  },
  {
   "cell_type": "code",
   "execution_count": 7,
   "metadata": {},
   "outputs": [
    {
     "data": {
      "text/html": [
       "<html><script type=\"math/tex; mode=display\">\\newcommand{\\Bold}[1]{\\mathbf{#1}}\\left(\\begin{array}{rrrrrrr}\n",
       "1 & 0 & 0 & 0 & 0 & 0 & -\\frac{185}{12} \\\\\n",
       "0 & 1 & 0 & 0 & 0 & 0 & -\\frac{113}{36} \\\\\n",
       "0 & 0 & 1 & 0 & 0 & 0 & -\\frac{109}{9} \\\\\n",
       "0 & 0 & 0 & 1 & 0 & 0 & \\frac{845}{72} \\\\\n",
       "0 & 0 & 0 & 0 & 1 & 0 & \\frac{19}{24} \\\\\n",
       "0 & 0 & 0 & 0 & 0 & 1 & -\\frac{67}{72}\n",
       "\\end{array}\\right)</script></html>"
      ],
      "text/plain": [
       "[      1       0       0       0       0       0 -185/12]\n",
       "[      0       1       0       0       0       0 -113/36]\n",
       "[      0       0       1       0       0       0  -109/9]\n",
       "[      0       0       0       1       0       0  845/72]\n",
       "[      0       0       0       0       1       0   19/24]\n",
       "[      0       0       0       0       0       1  -67/72]"
      ]
     },
     "metadata": {},
     "output_type": "display_data"
    }
   ],
   "source": [
    "C=AB.echelon_form(); show(C)"
   ]
  },
  {
   "cell_type": "code",
   "execution_count": 8,
   "metadata": {},
   "outputs": [],
   "source": [
    "# Como todas las columnas correspondientes a la parte\n",
    "# de los coeficientes son pivote, y la de los términos\n",
    "# independientes no lo es, el sistema es COMPATIBLE DETERMINADO."
   ]
  },
  {
   "cell_type": "markdown",
   "metadata": {},
   "source": [
    "Ejercicio 2"
   ]
  },
  {
   "cell_type": "code",
   "execution_count": 9,
   "metadata": {},
   "outputs": [],
   "source": [
    "# Consideramos el sistema de ecuaciones con la siguiente matriz ampliada:"
   ]
  },
  {
   "cell_type": "code",
   "execution_count": 10,
   "metadata": {},
   "outputs": [],
   "source": [
    "AB = matrix(QQ,6,7,[[0,2,-4,-1/4,2,0,1],[8,2,8,13/2,-3,-1,1],[0,2,1/2,3/2,-7/2,9/2,1],[3,2,4,3,-3,3,0],[-2,-2,-5,-9/2,1,1,-1/2],[-1/2,1/2,1,3/4,1/2,-1/2,0]])"
   ]
  },
  {
   "cell_type": "code",
   "execution_count": 11,
   "metadata": {},
   "outputs": [
    {
     "data": {
      "text/html": [
       "<html><script type=\"math/tex; mode=display\">\\newcommand{\\Bold}[1]{\\mathbf{#1}}\\left(\\begin{array}{rrrrrrr}\n",
       "0 & 2 & -4 & -\\frac{1}{4} & 2 & 0 & 1 \\\\\n",
       "8 & 2 & 8 & \\frac{13}{2} & -3 & -1 & 1 \\\\\n",
       "0 & 2 & \\frac{1}{2} & \\frac{3}{2} & -\\frac{7}{2} & \\frac{9}{2} & 1 \\\\\n",
       "3 & 2 & 4 & 3 & -3 & 3 & 0 \\\\\n",
       "-2 & -2 & -5 & -\\frac{9}{2} & 1 & 1 & -\\frac{1}{2} \\\\\n",
       "-\\frac{1}{2} & \\frac{1}{2} & 1 & \\frac{3}{4} & \\frac{1}{2} & -\\frac{1}{2} & 0\n",
       "\\end{array}\\right)</script></html>"
      ],
      "text/plain": [
       "[   0    2   -4 -1/4    2    0    1]\n",
       "[   8    2    8 13/2   -3   -1    1]\n",
       "[   0    2  1/2  3/2 -7/2  9/2    1]\n",
       "[   3    2    4    3   -3    3    0]\n",
       "[  -2   -2   -5 -9/2    1    1 -1/2]\n",
       "[-1/2  1/2    1  3/4  1/2 -1/2    0]"
      ]
     },
     "metadata": {},
     "output_type": "display_data"
    }
   ],
   "source": [
    "show(AB)"
   ]
  },
  {
   "cell_type": "code",
   "execution_count": 12,
   "metadata": {},
   "outputs": [],
   "source": [
    "# Calculamos la correspondiente matriz reducida por filas:"
   ]
  },
  {
   "cell_type": "code",
   "execution_count": 13,
   "metadata": {},
   "outputs": [
    {
     "data": {
      "text/html": [
       "<html><script type=\"math/tex; mode=display\">\\newcommand{\\Bold}[1]{\\mathbf{#1}}\\left(\\begin{array}{rrrrrrr}\n",
       "1 & 0 & 0 & 0 & 0 & 0 & 0 \\\\\n",
       "0 & 1 & 0 & 0 & 0 & \\frac{8}{5} & 0 \\\\\n",
       "0 & 0 & 1 & 0 & 0 & \\frac{2}{5} & 0 \\\\\n",
       "0 & 0 & 0 & 1 & 0 & -\\frac{8}{5} & 0 \\\\\n",
       "0 & 0 & 0 & 0 & 1 & -1 & 0 \\\\\n",
       "0 & 0 & 0 & 0 & 0 & 0 & 1\n",
       "\\end{array}\\right)</script></html>"
      ],
      "text/plain": [
       "[   1    0    0    0    0    0    0]\n",
       "[   0    1    0    0    0  8/5    0]\n",
       "[   0    0    1    0    0  2/5    0]\n",
       "[   0    0    0    1    0 -8/5    0]\n",
       "[   0    0    0    0    1   -1    0]\n",
       "[   0    0    0    0    0    0    1]"
      ]
     },
     "metadata": {},
     "output_type": "display_data"
    }
   ],
   "source": [
    "C=AB.echelon_form(); show(C)"
   ]
  },
  {
   "cell_type": "code",
   "execution_count": 14,
   "metadata": {},
   "outputs": [],
   "source": [
    "# Como la columna de los términos independientes es pivote,\n",
    "# el sistema es INCOMPATIBLE."
   ]
  },
  {
   "cell_type": "markdown",
   "metadata": {},
   "source": [
    "Ejercicio 3"
   ]
  },
  {
   "cell_type": "code",
   "execution_count": 15,
   "metadata": {},
   "outputs": [],
   "source": [
    "# Consideramos el sistema de ecuaciones con la siguiente matriz ampliada:"
   ]
  },
  {
   "cell_type": "code",
   "execution_count": 16,
   "metadata": {},
   "outputs": [],
   "source": [
    "AB = matrix(QQ,6,7,[[5/2,3/2,-4,0,-1,1,0],[3/4,1/2,1,-1/2,-1,2,0],[11/2,-2,0,0,2,2,-2],[2,11/4,-1,-1,-5/2,7/2,1],[-9/2,-1,-1/2,1,1/2,-4,0],[-6,-1/4,-5/2,0,-5,-1/2,-2]])"
   ]
  },
  {
   "cell_type": "code",
   "execution_count": 17,
   "metadata": {},
   "outputs": [
    {
     "data": {
      "text/html": [
       "<html><script type=\"math/tex; mode=display\">\\newcommand{\\Bold}[1]{\\mathbf{#1}}\\left(\\begin{array}{rrrrrrr}\n",
       "\\frac{5}{2} & \\frac{3}{2} & -4 & 0 & -1 & 1 & 0 \\\\\n",
       "\\frac{3}{4} & \\frac{1}{2} & 1 & -\\frac{1}{2} & -1 & 2 & 0 \\\\\n",
       "\\frac{11}{2} & -2 & 0 & 0 & 2 & 2 & -2 \\\\\n",
       "2 & \\frac{11}{4} & -1 & -1 & -\\frac{5}{2} & \\frac{7}{2} & 1 \\\\\n",
       "-\\frac{9}{2} & -1 & -\\frac{1}{2} & 1 & \\frac{1}{2} & -4 & 0 \\\\\n",
       "-6 & -\\frac{1}{4} & -\\frac{5}{2} & 0 & -5 & -\\frac{1}{2} & -2\n",
       "\\end{array}\\right)</script></html>"
      ],
      "text/plain": [
       "[ 5/2  3/2   -4    0   -1    1    0]\n",
       "[ 3/4  1/2    1 -1/2   -1    2    0]\n",
       "[11/2   -2    0    0    2    2   -2]\n",
       "[   2 11/4   -1   -1 -5/2  7/2    1]\n",
       "[-9/2   -1 -1/2    1  1/2   -4    0]\n",
       "[  -6 -1/4 -5/2    0   -5 -1/2   -2]"
      ]
     },
     "metadata": {},
     "output_type": "display_data"
    }
   ],
   "source": [
    "show(AB)"
   ]
  },
  {
   "cell_type": "code",
   "execution_count": 18,
   "metadata": {},
   "outputs": [],
   "source": [
    "# Calculamos la correspondiente matriz reducida por filas:"
   ]
  },
  {
   "cell_type": "code",
   "execution_count": 19,
   "metadata": {},
   "outputs": [
    {
     "data": {
      "text/html": [
       "<html><script type=\"math/tex; mode=display\">\\newcommand{\\Bold}[1]{\\mathbf{#1}}\\left(\\begin{array}{rrrrrrr}\n",
       "1 & 0 & 0 & 0 & 0 & \\frac{8}{11} & -\\frac{2}{11} \\\\\n",
       "0 & 1 & 0 & 0 & 0 & 0 & 1 \\\\\n",
       "0 & 0 & 1 & 0 & 0 & \\frac{5}{11} & \\frac{3}{22} \\\\\n",
       "0 & 0 & 0 & 1 & 0 & 0 & 0 \\\\\n",
       "0 & 0 & 0 & 0 & 1 & -1 & \\frac{1}{2} \\\\\n",
       "0 & 0 & 0 & 0 & 0 & 0 & 0\n",
       "\\end{array}\\right)</script></html>"
      ],
      "text/plain": [
       "[    1     0     0     0     0  8/11 -2/11]\n",
       "[    0     1     0     0     0     0     1]\n",
       "[    0     0     1     0     0  5/11  3/22]\n",
       "[    0     0     0     1     0     0     0]\n",
       "[    0     0     0     0     1    -1   1/2]\n",
       "[    0     0     0     0     0     0     0]"
      ]
     },
     "metadata": {},
     "output_type": "display_data"
    }
   ],
   "source": [
    "C=AB.echelon_form(); show(C)"
   ]
  },
  {
   "cell_type": "code",
   "execution_count": null,
   "metadata": {},
   "outputs": [],
   "source": [
    "# Como la columna de los términos independientes no es pivote, \n",
    "# y no todas las columnas de la parte de los coeficientes son pivote,\n",
    "# el sistema es COMPATIBLE INDETERMINADO."
   ]
  }
 ],
 "metadata": {
  "kernelspec": {
   "display_name": "SageMath 9.1",
   "language": "sage",
   "name": "sagemath"
  },
  "language_info": {
   "codemirror_mode": {
    "name": "ipython",
    "version": 3
   },
   "file_extension": ".py",
   "mimetype": "text/x-python",
   "name": "python",
   "nbconvert_exporter": "python",
   "pygments_lexer": "ipython3",
   "version": "3.7.3"
  }
 },
 "nbformat": 4,
 "nbformat_minor": 2
}
