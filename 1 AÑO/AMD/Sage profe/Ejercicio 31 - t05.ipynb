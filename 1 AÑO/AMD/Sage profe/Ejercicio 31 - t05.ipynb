{
 "cells": [
  {
   "cell_type": "markdown",
   "metadata": {},
   "source": [
    "Ejercicio 31 - t05"
   ]
  },
  {
   "cell_type": "code",
   "execution_count": 1,
   "metadata": {},
   "outputs": [],
   "source": [
    "A=matrix(Zmod(5),[[0,4,0,4],[1,2,3,2],[0,2,0,2]])"
   ]
  },
  {
   "cell_type": "code",
   "execution_count": 2,
   "metadata": {},
   "outputs": [
    {
     "data": {
      "text/html": [
       "<html><script type=\"math/tex; mode=display\">\\newcommand{\\Bold}[1]{\\mathbf{#1}}\\left(\\begin{array}{rrrr}\n",
       "0 & 4 & 0 & 4 \\\\\n",
       "1 & 2 & 3 & 2 \\\\\n",
       "0 & 2 & 0 & 2\n",
       "\\end{array}\\right)</script></html>"
      ],
      "text/plain": [
       "[0 4 0 4]\n",
       "[1 2 3 2]\n",
       "[0 2 0 2]"
      ]
     },
     "metadata": {},
     "output_type": "display_data"
    }
   ],
   "source": [
    "show(A)"
   ]
  },
  {
   "cell_type": "code",
   "execution_count": 4,
   "metadata": {},
   "outputs": [],
   "source": [
    "B=block_matrix([[A,1]])"
   ]
  },
  {
   "cell_type": "code",
   "execution_count": 5,
   "metadata": {},
   "outputs": [
    {
     "data": {
      "text/html": [
       "<html><script type=\"math/tex; mode=display\">\\newcommand{\\Bold}[1]{\\mathbf{#1}}\\left(\\begin{array}{rrrr|rrr}\n",
       "0 & 4 & 0 & 4 & 1 & 0 & 0 \\\\\n",
       "1 & 2 & 3 & 2 & 0 & 1 & 0 \\\\\n",
       "0 & 2 & 0 & 2 & 0 & 0 & 1\n",
       "\\end{array}\\right)</script></html>"
      ],
      "text/plain": [
       "[0 4 0 4|1 0 0]\n",
       "[1 2 3 2|0 1 0]\n",
       "[0 2 0 2|0 0 1]"
      ]
     },
     "metadata": {},
     "output_type": "display_data"
    }
   ],
   "source": [
    "show(B)"
   ]
  },
  {
   "cell_type": "code",
   "execution_count": 6,
   "metadata": {},
   "outputs": [],
   "source": [
    "R=B.echelon_form()\n",
    "# matriz reducida por filas de B"
   ]
  },
  {
   "cell_type": "code",
   "execution_count": 7,
   "metadata": {},
   "outputs": [
    {
     "data": {
      "text/html": [
       "<html><script type=\"math/tex; mode=display\">\\newcommand{\\Bold}[1]{\\mathbf{#1}}\\left(\\begin{array}{rrrr|rrr}\n",
       "1 & 0 & 3 & 0 & 0 & 1 & 4 \\\\\n",
       "0 & 1 & 0 & 1 & 0 & 0 & 3 \\\\\n",
       "0 & 0 & 0 & 0 & 1 & 0 & 3\n",
       "\\end{array}\\right)</script></html>"
      ],
      "text/plain": [
       "[1 0 3 0|0 1 4]\n",
       "[0 1 0 1|0 0 3]\n",
       "[0 0 0 0|1 0 3]"
      ]
     },
     "metadata": {},
     "output_type": "display_data"
    }
   ],
   "source": [
    "show(R)"
   ]
  },
  {
   "cell_type": "code",
   "execution_count": 9,
   "metadata": {},
   "outputs": [
    {
     "data": {
      "text/html": [
       "<html><script type=\"math/tex; mode=display\">\\newcommand{\\Bold}[1]{\\mathbf{#1}}\\left(\\begin{array}{rrr}\n",
       "0 & 1 & 4 \\\\\n",
       "0 & 0 & 3 \\\\\n",
       "1 & 0 & 3\n",
       "\\end{array}\\right)</script></html>"
      ],
      "text/plain": [
       "[0 1 4]\n",
       "[0 0 3]\n",
       "[1 0 3]"
      ]
     },
     "metadata": {},
     "output_type": "display_data"
    }
   ],
   "source": [
    "P=R[:,4:]; show(P)\n",
    "# matriz de paso"
   ]
  },
  {
   "cell_type": "code",
   "execution_count": 11,
   "metadata": {},
   "outputs": [
    {
     "data": {
      "text/html": [
       "<html><script type=\"math/tex; mode=display\">\\newcommand{\\Bold}[1]{\\mathbf{#1}}\\left(\\begin{array}{rrrr}\n",
       "1 & 0 & 3 & 0 \\\\\n",
       "0 & 1 & 0 & 1 \\\\\n",
       "0 & 0 & 0 & 0\n",
       "\\end{array}\\right)</script></html>"
      ],
      "text/plain": [
       "[1 0 3 0]\n",
       "[0 1 0 1]\n",
       "[0 0 0 0]"
      ]
     },
     "metadata": {},
     "output_type": "display_data"
    }
   ],
   "source": [
    "show(P*A) # comprobación"
   ]
  },
  {
   "cell_type": "code",
   "execution_count": 12,
   "metadata": {},
   "outputs": [],
   "source": [
    "# Si reducimos por filas utilizando el \"orden estricto explicado en clase\",\n",
    "# la matriz de paso obtenida es distinta:"
   ]
  },
  {
   "cell_type": "code",
   "execution_count": 13,
   "metadata": {},
   "outputs": [
    {
     "data": {
      "text/html": [
       "<html><script type=\"math/tex; mode=display\">\\newcommand{\\Bold}[1]{\\mathbf{#1}}\\left(\\begin{array}{rrr}\n",
       "2 & 1 & 0 \\\\\n",
       "4 & 0 & 0 \\\\\n",
       "2 & 0 & 1\n",
       "\\end{array}\\right)</script></html>"
      ],
      "text/plain": [
       "[2 1 0]\n",
       "[4 0 0]\n",
       "[2 0 1]"
      ]
     },
     "metadata": {},
     "output_type": "display_data"
    }
   ],
   "source": [
    "P1=matrix(Zmod(5),[[2,1,0],[4,0,0],[2,0,1]]); show(P1)"
   ]
  },
  {
   "cell_type": "code",
   "execution_count": 14,
   "metadata": {},
   "outputs": [
    {
     "data": {
      "text/html": [
       "<html><script type=\"math/tex; mode=display\">\\newcommand{\\Bold}[1]{\\mathbf{#1}}\\left(\\begin{array}{rrrr}\n",
       "1 & 0 & 3 & 0 \\\\\n",
       "0 & 1 & 0 & 1 \\\\\n",
       "0 & 0 & 0 & 0\n",
       "\\end{array}\\right)</script></html>"
      ],
      "text/plain": [
       "[1 0 3 0]\n",
       "[0 1 0 1]\n",
       "[0 0 0 0]"
      ]
     },
     "metadata": {},
     "output_type": "display_data"
    }
   ],
   "source": [
    "show(P1*A) # comprobación"
   ]
  }
 ],
 "metadata": {
  "kernelspec": {
   "display_name": "SageMath 9.1",
   "language": "sage",
   "name": "sagemath"
  },
  "language_info": {
   "codemirror_mode": {
    "name": "ipython",
    "version": 3
   },
   "file_extension": ".py",
   "mimetype": "text/x-python",
   "name": "python",
   "nbconvert_exporter": "python",
   "pygments_lexer": "ipython3",
   "version": "3.7.3"
  }
 },
 "nbformat": 4,
 "nbformat_minor": 2
}
