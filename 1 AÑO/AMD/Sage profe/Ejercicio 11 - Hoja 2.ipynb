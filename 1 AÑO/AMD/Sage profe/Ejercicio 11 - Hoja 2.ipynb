{
 "cells": [
  {
   "cell_type": "markdown",
   "metadata": {},
   "source": [
    "# Ejercicio 11 - Hoja 2"
   ]
  },
  {
   "cell_type": "code",
   "execution_count": 3,
   "metadata": {},
   "outputs": [],
   "source": [
    "# El espacio U=N(B) es el anulador por la derecha de la matriz:"
   ]
  },
  {
   "cell_type": "code",
   "execution_count": 1,
   "metadata": {},
   "outputs": [
    {
     "data": {
      "text/html": [
       "<html><script type=\"math/tex; mode=display\">\\newcommand{\\Bold}[1]{\\mathbf{#1}}\\left(\\begin{array}{rrrrr}\n",
       "2 & 4 & 2 & 3 & 3 \\\\\n",
       "1 & 0 & 4 & 2 & 3 \\\\\n",
       "2 & 1 & 1 & 1 & 3\n",
       "\\end{array}\\right)</script></html>"
      ],
      "text/plain": [
       "[2 4 2 3 3]\n",
       "[1 0 4 2 3]\n",
       "[2 1 1 1 3]"
      ]
     },
     "metadata": {},
     "output_type": "display_data"
    }
   ],
   "source": [
    "B=matrix(Zmod(5),[[2,-1,2,3,-2],[1,0,-1,2,3],[2,1,1,1,-2]]); show(B)"
   ]
  },
  {
   "cell_type": "code",
   "execution_count": 4,
   "metadata": {},
   "outputs": [],
   "source": [
    "# El espacio V=N(C) es el anulador por la derecha de la matriz:"
   ]
  },
  {
   "cell_type": "code",
   "execution_count": 2,
   "metadata": {},
   "outputs": [
    {
     "data": {
      "text/html": [
       "<html><script type=\"math/tex; mode=display\">\\newcommand{\\Bold}[1]{\\mathbf{#1}}\\left(\\begin{array}{rrrrr}\n",
       "2 & 4 & 2 & 3 & 3 \\\\\n",
       "2 & 0 & 3 & 4 & 1 \\\\\n",
       "1 & 3 & 3 & 3 & 4\n",
       "\\end{array}\\right)</script></html>"
      ],
      "text/plain": [
       "[2 4 2 3 3]\n",
       "[2 0 3 4 1]\n",
       "[1 3 3 3 4]"
      ]
     },
     "metadata": {},
     "output_type": "display_data"
    }
   ],
   "source": [
    "C=matrix(Zmod(5),[[-3,4,2,-2,3],[2,0,3,4,1],[1,3,3,3,4]]); show(C)"
   ]
  },
  {
   "cell_type": "markdown",
   "metadata": {},
   "source": [
    "Apartado a)"
   ]
  },
  {
   "cell_type": "code",
   "execution_count": 5,
   "metadata": {},
   "outputs": [],
   "source": [
    "# Vamos a calcular unas ecuaciones paramétricas de U:"
   ]
  },
  {
   "cell_type": "code",
   "execution_count": 6,
   "metadata": {},
   "outputs": [
    {
     "data": {
      "text/html": [
       "<html><script type=\"math/tex; mode=display\">\\newcommand{\\Bold}[1]{\\mathbf{#1}}\\left(\\begin{array}{rrr|rrrrr}\n",
       "2 & 1 & 2 & 1 & 0 & 0 & 0 & 0 \\\\\n",
       "4 & 0 & 1 & 0 & 1 & 0 & 0 & 0 \\\\\n",
       "2 & 4 & 1 & 0 & 0 & 1 & 0 & 0 \\\\\n",
       "3 & 2 & 1 & 0 & 0 & 0 & 1 & 0 \\\\\n",
       "3 & 3 & 3 & 0 & 0 & 0 & 0 & 1\n",
       "\\end{array}\\right)</script></html>"
      ],
      "text/plain": [
       "[2 1 2|1 0 0 0 0]\n",
       "[4 0 1|0 1 0 0 0]\n",
       "[2 4 1|0 0 1 0 0]\n",
       "[3 2 1|0 0 0 1 0]\n",
       "[3 3 3|0 0 0 0 1]"
      ]
     },
     "metadata": {},
     "output_type": "display_data"
    }
   ],
   "source": [
    "aux=block_matrix([[B.T,1]]); show(aux)"
   ]
  },
  {
   "cell_type": "code",
   "execution_count": 7,
   "metadata": {},
   "outputs": [
    {
     "data": {
      "text/html": [
       "<html><script type=\"math/tex; mode=display\">\\newcommand{\\Bold}[1]{\\mathbf{#1}}\\left(\\begin{array}{rrr|rrrrr}\n",
       "1 & 0 & 0 & 3 & 0 & 0 & 3 & 2 \\\\\n",
       "0 & 1 & 0 & 4 & 0 & 0 & 0 & 4 \\\\\n",
       "0 & 0 & 1 & 3 & 0 & 0 & 2 & 1 \\\\\n",
       "0 & 0 & 0 & 0 & 1 & 0 & 1 & 1 \\\\\n",
       "0 & 0 & 0 & 0 & 0 & 1 & 2 & 4\n",
       "\\end{array}\\right)</script></html>"
      ],
      "text/plain": [
       "[1 0 0|3 0 0 3 2]\n",
       "[0 1 0|4 0 0 0 4]\n",
       "[0 0 1|3 0 0 2 1]\n",
       "[0 0 0|0 1 0 1 1]\n",
       "[0 0 0|0 0 1 2 4]"
      ]
     },
     "metadata": {},
     "output_type": "display_data"
    }
   ],
   "source": [
    "R=aux.echelon_form(); show(R)"
   ]
  },
  {
   "cell_type": "code",
   "execution_count": 8,
   "metadata": {},
   "outputs": [
    {
     "data": {
      "text/html": [
       "<html><script type=\"math/tex; mode=display\">\\newcommand{\\Bold}[1]{\\mathbf{#1}}\\left(\\begin{array}{rrr|rrrrr}\n",
       "1 & 0 & 0 & 3 & 0 & 0 & 3 & 2 \\\\\n",
       "0 & 1 & 0 & 4 & 0 & 0 & 0 & 4 \\\\\n",
       "0 & 0 & 1 & 3 & 0 & 0 & 2 & 1 \\\\\n",
       "\\hline\n",
       " 0 & 0 & 0 & 0 & 1 & 0 & 1 & 1 \\\\\n",
       "0 & 0 & 0 & 0 & 0 & 1 & 2 & 4\n",
       "\\end{array}\\right)</script></html>"
      ],
      "text/plain": [
       "[1 0 0|3 0 0 3 2]\n",
       "[0 1 0|4 0 0 0 4]\n",
       "[0 0 1|3 0 0 2 1]\n",
       "[-----+---------]\n",
       "[0 0 0|0 1 0 1 1]\n",
       "[0 0 0|0 0 1 2 4]"
      ]
     },
     "metadata": {},
     "output_type": "display_data"
    }
   ],
   "source": [
    "R=copy(R); R.subdivide([3],[3]); show(R)"
   ]
  },
  {
   "cell_type": "code",
   "execution_count": 10,
   "metadata": {},
   "outputs": [],
   "source": [
    "# Entonces U=C(Bp) es el espacio generado por las columnas de la matriz:"
   ]
  },
  {
   "cell_type": "code",
   "execution_count": 9,
   "metadata": {},
   "outputs": [
    {
     "data": {
      "text/html": [
       "<html><script type=\"math/tex; mode=display\">\\newcommand{\\Bold}[1]{\\mathbf{#1}}\\left(\\begin{array}{rr}\n",
       "0 & 0 \\\\\n",
       "1 & 0 \\\\\n",
       "0 & 1 \\\\\n",
       "1 & 2 \\\\\n",
       "1 & 4\n",
       "\\end{array}\\right)</script></html>"
      ],
      "text/plain": [
       "[0 0]\n",
       "[1 0]\n",
       "[0 1]\n",
       "[1 2]\n",
       "[1 4]"
      ]
     },
     "metadata": {},
     "output_type": "display_data"
    }
   ],
   "source": [
    "Bp=R.subdivision(1,1).T; show(Bp)"
   ]
  },
  {
   "cell_type": "code",
   "execution_count": 11,
   "metadata": {},
   "outputs": [
    {
     "data": {
      "text/html": [
       "<html><script type=\"math/tex; mode=display\">\\newcommand{\\Bold}[1]{\\mathbf{#1}}\\left(\\begin{array}{rr}\n",
       "0 & 0 \\\\\n",
       "0 & 0 \\\\\n",
       "0 & 0\n",
       "\\end{array}\\right)</script></html>"
      ],
      "text/plain": [
       "[0 0]\n",
       "[0 0]\n",
       "[0 0]"
      ]
     },
     "metadata": {},
     "output_type": "display_data"
    }
   ],
   "source": [
    "show(C*Bp)"
   ]
  },
  {
   "cell_type": "code",
   "execution_count": 12,
   "metadata": {},
   "outputs": [],
   "source": [
    "# Por tanto, U está contenido en V=N(C)."
   ]
  },
  {
   "cell_type": "code",
   "execution_count": 13,
   "metadata": {},
   "outputs": [],
   "source": [
    "# Vamos a calcular unas ecuaciones paramétricas de V:"
   ]
  },
  {
   "cell_type": "code",
   "execution_count": 14,
   "metadata": {},
   "outputs": [
    {
     "data": {
      "text/html": [
       "<html><script type=\"math/tex; mode=display\">\\newcommand{\\Bold}[1]{\\mathbf{#1}}\\left(\\begin{array}{rrr|rrrrr}\n",
       "2 & 2 & 1 & 1 & 0 & 0 & 0 & 0 \\\\\n",
       "4 & 0 & 3 & 0 & 1 & 0 & 0 & 0 \\\\\n",
       "2 & 3 & 3 & 0 & 0 & 1 & 0 & 0 \\\\\n",
       "3 & 4 & 3 & 0 & 0 & 0 & 1 & 0 \\\\\n",
       "3 & 1 & 4 & 0 & 0 & 0 & 0 & 1\n",
       "\\end{array}\\right)</script></html>"
      ],
      "text/plain": [
       "[2 2 1|1 0 0 0 0]\n",
       "[4 0 3|0 1 0 0 0]\n",
       "[2 3 3|0 0 1 0 0]\n",
       "[3 4 3|0 0 0 1 0]\n",
       "[3 1 4|0 0 0 0 1]"
      ]
     },
     "metadata": {},
     "output_type": "display_data"
    }
   ],
   "source": [
    "aux=block_matrix([[C.T,1]]); show(aux)"
   ]
  },
  {
   "cell_type": "code",
   "execution_count": 15,
   "metadata": {},
   "outputs": [
    {
     "data": {
      "text/html": [
       "<html><script type=\"math/tex; mode=display\">\\newcommand{\\Bold}[1]{\\mathbf{#1}}\\left(\\begin{array}{rrr|rrrrr}\n",
       "1 & 0 & 0 & 3 & 0 & 0 & 3 & 2 \\\\\n",
       "0 & 1 & 0 & 2 & 0 & 0 & 0 & 2 \\\\\n",
       "0 & 0 & 1 & 1 & 0 & 0 & 4 & 2 \\\\\n",
       "0 & 0 & 0 & 0 & 1 & 0 & 1 & 1 \\\\\n",
       "0 & 0 & 0 & 0 & 0 & 1 & 2 & 4\n",
       "\\end{array}\\right)</script></html>"
      ],
      "text/plain": [
       "[1 0 0|3 0 0 3 2]\n",
       "[0 1 0|2 0 0 0 2]\n",
       "[0 0 1|1 0 0 4 2]\n",
       "[0 0 0|0 1 0 1 1]\n",
       "[0 0 0|0 0 1 2 4]"
      ]
     },
     "metadata": {},
     "output_type": "display_data"
    }
   ],
   "source": [
    "R=aux.echelon_form(); show(R)"
   ]
  },
  {
   "cell_type": "code",
   "execution_count": 16,
   "metadata": {},
   "outputs": [
    {
     "data": {
      "text/html": [
       "<html><script type=\"math/tex; mode=display\">\\newcommand{\\Bold}[1]{\\mathbf{#1}}\\left(\\begin{array}{rrr|rrrrr}\n",
       "1 & 0 & 0 & 3 & 0 & 0 & 3 & 2 \\\\\n",
       "0 & 1 & 0 & 2 & 0 & 0 & 0 & 2 \\\\\n",
       "0 & 0 & 1 & 1 & 0 & 0 & 4 & 2 \\\\\n",
       "\\hline\n",
       " 0 & 0 & 0 & 0 & 1 & 0 & 1 & 1 \\\\\n",
       "0 & 0 & 0 & 0 & 0 & 1 & 2 & 4\n",
       "\\end{array}\\right)</script></html>"
      ],
      "text/plain": [
       "[1 0 0|3 0 0 3 2]\n",
       "[0 1 0|2 0 0 0 2]\n",
       "[0 0 1|1 0 0 4 2]\n",
       "[-----+---------]\n",
       "[0 0 0|0 1 0 1 1]\n",
       "[0 0 0|0 0 1 2 4]"
      ]
     },
     "metadata": {},
     "output_type": "display_data"
    }
   ],
   "source": [
    "R=copy(R); R.subdivide([3],[3]); show(R)"
   ]
  },
  {
   "cell_type": "code",
   "execution_count": 17,
   "metadata": {},
   "outputs": [],
   "source": [
    "# Entonces V=C(Cp) es el espacio generado por las columnas de la matriz:"
   ]
  },
  {
   "cell_type": "code",
   "execution_count": 18,
   "metadata": {},
   "outputs": [
    {
     "data": {
      "text/html": [
       "<html><script type=\"math/tex; mode=display\">\\newcommand{\\Bold}[1]{\\mathbf{#1}}\\left(\\begin{array}{rr}\n",
       "0 & 0 \\\\\n",
       "1 & 0 \\\\\n",
       "0 & 1 \\\\\n",
       "1 & 2 \\\\\n",
       "1 & 4\n",
       "\\end{array}\\right)</script></html>"
      ],
      "text/plain": [
       "[0 0]\n",
       "[1 0]\n",
       "[0 1]\n",
       "[1 2]\n",
       "[1 4]"
      ]
     },
     "metadata": {},
     "output_type": "display_data"
    }
   ],
   "source": [
    "Cp=R.subdivision(1,1).T; show(Cp)"
   ]
  },
  {
   "cell_type": "code",
   "execution_count": 19,
   "metadata": {},
   "outputs": [
    {
     "data": {
      "text/html": [
       "<html><script type=\"math/tex; mode=display\">\\newcommand{\\Bold}[1]{\\mathbf{#1}}\\left(\\begin{array}{rr}\n",
       "0 & 0 \\\\\n",
       "0 & 0 \\\\\n",
       "0 & 0\n",
       "\\end{array}\\right)</script></html>"
      ],
      "text/plain": [
       "[0 0]\n",
       "[0 0]\n",
       "[0 0]"
      ]
     },
     "metadata": {},
     "output_type": "display_data"
    }
   ],
   "source": [
    "show(B*Cp)"
   ]
  },
  {
   "cell_type": "code",
   "execution_count": 20,
   "metadata": {},
   "outputs": [],
   "source": [
    "# Por tanto, V está contenido en U=N(B).\n",
    "# Deducimos así que U=V."
   ]
  },
  {
   "cell_type": "markdown",
   "metadata": {},
   "source": [
    "Apartado b)"
   ]
  },
  {
   "cell_type": "code",
   "execution_count": 21,
   "metadata": {},
   "outputs": [],
   "source": [
    "# Entonces U+V = intersección de U y V = U = N(B) = V = N(C). "
   ]
  },
  {
   "cell_type": "markdown",
   "metadata": {},
   "source": [
    "Apartado c)"
   ]
  },
  {
   "cell_type": "code",
   "execution_count": 22,
   "metadata": {},
   "outputs": [],
   "source": [
    "# Las columnas de Bp (o de Cp) forman una base de U+V = intersección de U y V = U = V. "
   ]
  }
 ],
 "metadata": {
  "kernelspec": {
   "display_name": "SageMath 9.1",
   "language": "sage",
   "name": "sagemath"
  },
  "language_info": {
   "codemirror_mode": {
    "name": "ipython",
    "version": 3
   },
   "file_extension": ".py",
   "mimetype": "text/x-python",
   "name": "python",
   "nbconvert_exporter": "python",
   "pygments_lexer": "ipython3",
   "version": "3.7.3"
  }
 },
 "nbformat": 4,
 "nbformat_minor": 2
}
