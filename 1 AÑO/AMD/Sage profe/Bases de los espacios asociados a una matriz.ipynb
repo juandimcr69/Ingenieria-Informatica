{
 "cells": [
  {
   "cell_type": "markdown",
   "metadata": {},
   "source": [
    "# Bases de los espacios asociados a una matriz"
   ]
  },
  {
   "cell_type": "markdown",
   "metadata": {},
   "source": [
    "Ejercicio 44 (t18)"
   ]
  },
  {
   "cell_type": "code",
   "execution_count": 9,
   "metadata": {},
   "outputs": [
    {
     "data": {
      "text/html": [
       "<html><script type=\"math/tex; mode=display\">\\newcommand{\\Bold}[1]{\\mathbf{#1}}\\left(\\begin{array}{rrrr}\n",
       "1 & 1 & 0 & 2 \\\\\n",
       "0 & 1 & 1 & 2 \\\\\n",
       "1 & 1 & 1 & 1\n",
       "\\end{array}\\right)</script></html>"
      ],
      "text/plain": [
       "[1 1 0 2]\n",
       "[0 1 1 2]\n",
       "[1 1 1 1]"
      ]
     },
     "metadata": {},
     "output_type": "display_data"
    }
   ],
   "source": [
    "A=matrix(Zmod(3),[[1,1,0,2],[0,1,1,2],[1,1,1,1]]); show(A)"
   ]
  },
  {
   "cell_type": "code",
   "execution_count": 3,
   "metadata": {},
   "outputs": [],
   "source": [
    "# Ampliamos con la identidad y calculamos la reducida por filas:"
   ]
  },
  {
   "cell_type": "code",
   "execution_count": 10,
   "metadata": {},
   "outputs": [
    {
     "data": {
      "text/html": [
       "<html><script type=\"math/tex; mode=display\">\\newcommand{\\Bold}[1]{\\mathbf{#1}}\\left(\\begin{array}{rrrr|rrr}\n",
       "1 & 0 & 0 & 2 & 0 & 2 & 1 \\\\\n",
       "0 & 1 & 0 & 0 & 1 & 1 & 2 \\\\\n",
       "0 & 0 & 1 & 2 & 2 & 0 & 1\n",
       "\\end{array}\\right)</script></html>"
      ],
      "text/plain": [
       "[1 0 0 2|0 2 1]\n",
       "[0 1 0 0|1 1 2]\n",
       "[0 0 1 2|2 0 1]"
      ]
     },
     "metadata": {},
     "output_type": "display_data"
    }
   ],
   "source": [
    "AA=block_matrix([[A,1]]); RR=AA.echelon_form(); show(RR)"
   ]
  },
  {
   "cell_type": "markdown",
   "metadata": {},
   "source": [
    "Base del espacio $C(A)$ generado por las columnas de A"
   ]
  },
  {
   "cell_type": "code",
   "execution_count": 5,
   "metadata": {},
   "outputs": [],
   "source": [
    "# Una base de C(A) está formada por las columnas de A que al reducir son pivote.\n",
    "# En este caso son las tres primeras:"
   ]
  },
  {
   "cell_type": "code",
   "execution_count": 11,
   "metadata": {},
   "outputs": [
    {
     "data": {
      "text/html": [
       "<html><script type=\"math/tex; mode=display\">\\newcommand{\\Bold}[1]{\\mathbf{#1}}\\left(\\begin{array}{r}\n",
       "1 \\\\\n",
       "0 \\\\\n",
       "1\n",
       "\\end{array}\\right) \\left(\\begin{array}{r}\n",
       "1 \\\\\n",
       "1 \\\\\n",
       "1\n",
       "\\end{array}\\right) \\left(\\begin{array}{r}\n",
       "0 \\\\\n",
       "1 \\\\\n",
       "1\n",
       "\\end{array}\\right)</script></html>"
      ],
      "text/plain": [
       "[1]\n",
       "[0]\n",
       "[1] [1]\n",
       "[1]\n",
       "[1] [0]\n",
       "[1]\n",
       "[1]"
      ]
     },
     "metadata": {},
     "output_type": "display_data"
    }
   ],
   "source": [
    "v1=A[:,0]; v2=A[:,1]; v3=A[:,2]; show(v1,v2,v3)"
   ]
  },
  {
   "cell_type": "markdown",
   "metadata": {},
   "source": [
    "Base del espacio $C(A^T)$ generado por las filas de A"
   ]
  },
  {
   "cell_type": "code",
   "execution_count": 15,
   "metadata": {},
   "outputs": [],
   "source": [
    "# Una base de C(A^T) está formada por las filas no nulas \n",
    "# de la matriz reducida por filas de A. En este caso son las tres filas:"
   ]
  },
  {
   "cell_type": "code",
   "execution_count": 12,
   "metadata": {},
   "outputs": [
    {
     "data": {
      "text/html": [
       "<html><script type=\"math/tex; mode=display\">\\newcommand{\\Bold}[1]{\\mathbf{#1}}\\left(\\begin{array}{rrrr}\n",
       "1 & 0 & 0 & 2 \\\\\n",
       "0 & 1 & 0 & 0 \\\\\n",
       "0 & 0 & 1 & 2\n",
       "\\end{array}\\right)</script></html>"
      ],
      "text/plain": [
       "[1 0 0 2]\n",
       "[0 1 0 0]\n",
       "[0 0 1 2]"
      ]
     },
     "metadata": {},
     "output_type": "display_data"
    }
   ],
   "source": [
    "R=RR.subdivision(0,0); show(R)"
   ]
  },
  {
   "cell_type": "code",
   "execution_count": 18,
   "metadata": {},
   "outputs": [
    {
     "data": {
      "text/html": [
       "<html><script type=\"math/tex; mode=display\">\\newcommand{\\Bold}[1]{\\mathbf{#1}}\\left(\\begin{array}{r}\n",
       "1 \\\\\n",
       "0 \\\\\n",
       "0 \\\\\n",
       "2\n",
       "\\end{array}\\right)</script></html>"
      ],
      "text/plain": [
       "[1]\n",
       "[0]\n",
       "[0]\n",
       "[2]"
      ]
     },
     "metadata": {},
     "output_type": "display_data"
    }
   ],
   "source": [
    "w1=R[0,:].T; show(w1)"
   ]
  },
  {
   "cell_type": "code",
   "execution_count": 19,
   "metadata": {},
   "outputs": [
    {
     "data": {
      "text/html": [
       "<html><script type=\"math/tex; mode=display\">\\newcommand{\\Bold}[1]{\\mathbf{#1}}\\left(\\begin{array}{r}\n",
       "0 \\\\\n",
       "1 \\\\\n",
       "0 \\\\\n",
       "0\n",
       "\\end{array}\\right)</script></html>"
      ],
      "text/plain": [
       "[0]\n",
       "[1]\n",
       "[0]\n",
       "[0]"
      ]
     },
     "metadata": {},
     "output_type": "display_data"
    }
   ],
   "source": [
    "w2=R[1,:].T; show(w2)"
   ]
  },
  {
   "cell_type": "code",
   "execution_count": 20,
   "metadata": {},
   "outputs": [
    {
     "data": {
      "text/html": [
       "<html><script type=\"math/tex; mode=display\">\\newcommand{\\Bold}[1]{\\mathbf{#1}}\\left(\\begin{array}{r}\n",
       "0 \\\\\n",
       "0 \\\\\n",
       "1 \\\\\n",
       "2\n",
       "\\end{array}\\right)</script></html>"
      ],
      "text/plain": [
       "[0]\n",
       "[0]\n",
       "[1]\n",
       "[2]"
      ]
     },
     "metadata": {},
     "output_type": "display_data"
    }
   ],
   "source": [
    "w3=R[2,:].T; show(w3)"
   ]
  },
  {
   "cell_type": "markdown",
   "metadata": {},
   "source": [
    "Base del espacio $N(A)$ anulador por la derecha de A"
   ]
  },
  {
   "cell_type": "code",
   "execution_count": 9,
   "metadata": {},
   "outputs": [],
   "source": [
    "# El sistema A*x=0 es equivalente R*x=0, cuyas soluciones son\n",
    "# los vectores de la forma x_1 = t, x_2 = 0, x_3 = t, x_4 = t, con t en Z_3.\n",
    "# Es decir, N(A) tiene como base el conjunto formado por el vector:"
   ]
  },
  {
   "cell_type": "code",
   "execution_count": 21,
   "metadata": {},
   "outputs": [
    {
     "data": {
      "text/html": [
       "<html><script type=\"math/tex; mode=display\">\\newcommand{\\Bold}[1]{\\mathbf{#1}}\\left(\\begin{array}{r}\n",
       "1 \\\\\n",
       "0 \\\\\n",
       "1 \\\\\n",
       "1\n",
       "\\end{array}\\right)</script></html>"
      ],
      "text/plain": [
       "[1]\n",
       "[0]\n",
       "[1]\n",
       "[1]"
      ]
     },
     "metadata": {},
     "output_type": "display_data"
    }
   ],
   "source": [
    "u=column_matrix(Zmod(3),[1,0,1,1]); show(u)"
   ]
  },
  {
   "cell_type": "markdown",
   "metadata": {},
   "source": [
    "Base del espacio $N(A^T)$ anulador por la izquierda de A"
   ]
  },
  {
   "cell_type": "code",
   "execution_count": 22,
   "metadata": {},
   "outputs": [],
   "source": [
    "# Una base de N(A^T) está formada por las filas del segundo bloque de RR que aparecen\n",
    "# a la derecha de las filas cero del primer bloque.\n",
    "# En este caso no hay ninguna, así que N(A^T)={0} (que no tiene base)."
   ]
  }
 ],
 "metadata": {
  "kernelspec": {
   "display_name": "SageMath 9.1",
   "language": "sage",
   "name": "sagemath"
  },
  "language_info": {
   "codemirror_mode": {
    "name": "ipython",
    "version": 3
   },
   "file_extension": ".py",
   "mimetype": "text/x-python",
   "name": "python",
   "nbconvert_exporter": "python",
   "pygments_lexer": "ipython3",
   "version": "3.7.3"
  }
 },
 "nbformat": 4,
 "nbformat_minor": 2
}
