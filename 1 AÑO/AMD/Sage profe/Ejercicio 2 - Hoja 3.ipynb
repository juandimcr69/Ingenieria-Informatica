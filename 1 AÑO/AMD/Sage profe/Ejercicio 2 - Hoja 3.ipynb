{
 "cells": [
  {
   "cell_type": "markdown",
   "metadata": {},
   "source": [
    "# Ejercicio 2 - Hoja 3"
   ]
  },
  {
   "cell_type": "code",
   "execution_count": 1,
   "metadata": {},
   "outputs": [],
   "source": [
    "# El espacio vectorial W está generado por los vectores:"
   ]
  },
  {
   "cell_type": "code",
   "execution_count": 37,
   "metadata": {},
   "outputs": [],
   "source": [
    "w1=vector([1,0,1,0]); w2=vector([1,1,0,0]); w3=vector(QQ,[0,1,1,1])"
   ]
  },
  {
   "cell_type": "code",
   "execution_count": 38,
   "metadata": {},
   "outputs": [
    {
     "data": {
      "text/html": [
       "<html><script type=\"math/tex; mode=display\">\\newcommand{\\Bold}[1]{\\mathbf{#1}}\\left(1,\\,0,\\,1,\\,0\\right) \\left(1,\\,1,\\,0,\\,0\\right) \\left(0,\\,1,\\,1,\\,1\\right)</script></html>"
      ],
      "text/plain": [
       "(1, 0, 1, 0) (1, 1, 0, 0) (0, 1, 1, 1)"
      ]
     },
     "metadata": {},
     "output_type": "display_data"
    }
   ],
   "source": [
    "show(w1,w2,w3)"
   ]
  },
  {
   "cell_type": "code",
   "execution_count": 4,
   "metadata": {},
   "outputs": [],
   "source": [
    "# Vamos a calcular una base ortogonal de W siguiendo Gram-Schmidt: "
   ]
  },
  {
   "cell_type": "code",
   "execution_count": 39,
   "metadata": {},
   "outputs": [],
   "source": [
    "v1=w1;"
   ]
  },
  {
   "cell_type": "code",
   "execution_count": 40,
   "metadata": {},
   "outputs": [],
   "source": [
    "v2=w2-((w2*v1)/norm(v1)^2)*v1"
   ]
  },
  {
   "cell_type": "code",
   "execution_count": 41,
   "metadata": {},
   "outputs": [],
   "source": [
    "v3=w3-((w3*v1)/norm(v1)^2)*v1-((w3*v2)/norm(v2)^2)*v2"
   ]
  },
  {
   "cell_type": "code",
   "execution_count": 17,
   "metadata": {},
   "outputs": [],
   "source": [
    "# Obtenemos así una base ortonormal {v1,v2,v3} de W:"
   ]
  },
  {
   "cell_type": "code",
   "execution_count": 42,
   "metadata": {},
   "outputs": [
    {
     "data": {
      "text/html": [
       "<html><script type=\"math/tex; mode=display\">\\newcommand{\\Bold}[1]{\\mathbf{#1}}\\left(1,\\,0,\\,1,\\,0\\right) \\left(\\frac{1}{2},\\,1,\\,-\\frac{1}{2},\\,0\\right) \\left(-\\frac{2}{3},\\,\\frac{2}{3},\\,\\frac{2}{3},\\,1\\right)</script></html>"
      ],
      "text/plain": [
       "(1, 0, 1, 0) (1/2, 1, -1/2, 0) (-2/3, 2/3, 2/3, 1)"
      ]
     },
     "metadata": {},
     "output_type": "display_data"
    }
   ],
   "source": [
    "show(v1,v2,v3)"
   ]
  },
  {
   "cell_type": "code",
   "execution_count": 31,
   "metadata": {},
   "outputs": [],
   "source": [
    "# Normalizamos para obtener una base ortonormal {u1,u2,u3} de W:"
   ]
  },
  {
   "cell_type": "code",
   "execution_count": 43,
   "metadata": {},
   "outputs": [],
   "source": [
    "u1=v1.normalized(); u2=v2.normalized(); u3=v3.normalized()"
   ]
  },
  {
   "cell_type": "code",
   "execution_count": 44,
   "metadata": {},
   "outputs": [
    {
     "data": {
      "text/html": [
       "<html><script type=\"math/tex; mode=display\">\\newcommand{\\Bold}[1]{\\mathbf{#1}}\\left(\\frac{1}{2} \\, \\sqrt{2},\\,0,\\,\\frac{1}{2} \\, \\sqrt{2},\\,0\\right)</script></html>"
      ],
      "text/plain": [
       "(1/2*sqrt(2), 0, 1/2*sqrt(2), 0)"
      ]
     },
     "metadata": {},
     "output_type": "display_data"
    },
    {
     "data": {
      "text/html": [
       "<html><script type=\"math/tex; mode=display\">\\newcommand{\\Bold}[1]{\\mathbf{#1}}\\left(\\frac{1}{3} \\, \\sqrt{\\frac{3}{2}},\\,\\frac{2}{3} \\, \\sqrt{\\frac{3}{2}},\\,-\\frac{1}{3} \\, \\sqrt{\\frac{3}{2}},\\,0\\right)</script></html>"
      ],
      "text/plain": [
       "(1/3*sqrt(3/2), 2/3*sqrt(3/2), -1/3*sqrt(3/2), 0)"
      ]
     },
     "metadata": {},
     "output_type": "display_data"
    },
    {
     "data": {
      "text/html": [
       "<html><script type=\"math/tex; mode=display\">\\newcommand{\\Bold}[1]{\\mathbf{#1}}\\left(-\\frac{2}{7} \\, \\sqrt{\\frac{7}{3}},\\,\\frac{2}{7} \\, \\sqrt{\\frac{7}{3}},\\,\\frac{2}{7} \\, \\sqrt{\\frac{7}{3}},\\,\\frac{3}{7} \\, \\sqrt{\\frac{7}{3}}\\right)</script></html>"
      ],
      "text/plain": [
       "(-2/7*sqrt(7/3), 2/7*sqrt(7/3), 2/7*sqrt(7/3), 3/7*sqrt(7/3))"
      ]
     },
     "metadata": {},
     "output_type": "display_data"
    }
   ],
   "source": [
    "show(u1); show(u2); show(u3)"
   ]
  },
  {
   "cell_type": "code",
   "execution_count": 32,
   "metadata": {},
   "outputs": [],
   "source": [
    "# Ahora calculamos la proyección ortogonal sobre W del vector:"
   ]
  },
  {
   "cell_type": "code",
   "execution_count": 45,
   "metadata": {},
   "outputs": [
    {
     "data": {
      "text/html": [
       "<html><script type=\"math/tex; mode=display\">\\newcommand{\\Bold}[1]{\\mathbf{#1}}\\left(1,\\,1,\\,1,\\,1\\right)</script></html>"
      ],
      "text/plain": [
       "(1, 1, 1, 1)"
      ]
     },
     "metadata": {},
     "output_type": "display_data"
    }
   ],
   "source": [
    "v=vector([1,1,1,1]); show(v)"
   ]
  },
  {
   "cell_type": "code",
   "execution_count": 34,
   "metadata": {},
   "outputs": [],
   "source": [
    "# Sabemos que dicha proyección está dada por la fórmula:"
   ]
  },
  {
   "cell_type": "code",
   "execution_count": 46,
   "metadata": {},
   "outputs": [
    {
     "data": {
      "text/html": [
       "<html><script type=\"math/tex; mode=display\">\\newcommand{\\Bold}[1]{\\mathbf{#1}}\\left(\\frac{6}{7},\\,\\frac{8}{7},\\,\\frac{8}{7},\\,\\frac{5}{7}\\right)</script></html>"
      ],
      "text/plain": [
       "(6/7, 8/7, 8/7, 5/7)"
      ]
     },
     "metadata": {},
     "output_type": "display_data"
    }
   ],
   "source": [
    "proy=(v*u1)*u1+(v*u2)*u2+(v*u3)*u3; show(proy)"
   ]
  }
 ],
 "metadata": {
  "kernelspec": {
   "display_name": "SageMath 9.1",
   "language": "sage",
   "name": "sagemath"
  },
  "language_info": {
   "codemirror_mode": {
    "name": "ipython",
    "version": 3
   },
   "file_extension": ".py",
   "mimetype": "text/x-python",
   "name": "python",
   "nbconvert_exporter": "python",
   "pygments_lexer": "ipython3",
   "version": "3.7.3"
  }
 },
 "nbformat": 4,
 "nbformat_minor": 2
}
