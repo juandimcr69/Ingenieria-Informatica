{
 "cells": [
  {
   "cell_type": "markdown",
   "metadata": {},
   "source": [
    "# Aritmética de matrices"
   ]
  },
  {
   "cell_type": "markdown",
   "metadata": {},
   "source": [
    "En Sage podemos definir matrices por filas o por columnas:"
   ]
  },
  {
   "cell_type": "code",
   "execution_count": 3,
   "metadata": {},
   "outputs": [],
   "source": [
    "A=matrix(QQ,[[1,-1,2,0],[2,2,4,-1],[-1,1,3,1]]) # matriz sobre el cuerpo Q"
   ]
  },
  {
   "cell_type": "code",
   "execution_count": 2,
   "metadata": {},
   "outputs": [
    {
     "data": {
      "text/html": [
       "<html><script type=\"math/tex; mode=display\">\\newcommand{\\Bold}[1]{\\mathbf{#1}}\\left(\\begin{array}{rrrr}\n",
       "1 & -1 & 2 & 0 \\\\\n",
       "2 & 2 & 4 & -1 \\\\\n",
       "-1 & 1 & 3 & 1\n",
       "\\end{array}\\right)</script></html>"
      ],
      "text/plain": [
       "[ 1 -1  2  0]\n",
       "[ 2  2  4 -1]\n",
       "[-1  1  3  1]"
      ]
     },
     "metadata": {},
     "output_type": "display_data"
    }
   ],
   "source": [
    "show(A)"
   ]
  },
  {
   "cell_type": "code",
   "execution_count": 5,
   "metadata": {},
   "outputs": [],
   "source": [
    "B=column_matrix(QQ,[[1,2,-1],[-1,2,1],[2,4,3],[0,-1,1]])"
   ]
  },
  {
   "cell_type": "code",
   "execution_count": 6,
   "metadata": {},
   "outputs": [
    {
     "data": {
      "text/html": [
       "<html><script type=\"math/tex; mode=display\">\\newcommand{\\Bold}[1]{\\mathbf{#1}}\\left(\\begin{array}{rrrr}\n",
       "1 & -1 & 2 & 0 \\\\\n",
       "2 & 2 & 4 & -1 \\\\\n",
       "-1 & 1 & 3 & 1\n",
       "\\end{array}\\right)</script></html>"
      ],
      "text/plain": [
       "[ 1 -1  2  0]\n",
       "[ 2  2  4 -1]\n",
       "[-1  1  3  1]"
      ]
     },
     "metadata": {},
     "output_type": "display_data"
    }
   ],
   "source": [
    "show(B)"
   ]
  },
  {
   "cell_type": "markdown",
   "metadata": {},
   "source": [
    "Producto por escalares:"
   ]
  },
  {
   "cell_type": "code",
   "execution_count": 12,
   "metadata": {},
   "outputs": [
    {
     "data": {
      "text/html": [
       "<html><script type=\"math/tex; mode=display\">\\newcommand{\\Bold}[1]{\\mathbf{#1}}\\left(\\begin{array}{rrrr}\n",
       "2 & -2 & 4 & 0 \\\\\n",
       "4 & 4 & 8 & -2 \\\\\n",
       "-2 & 2 & 6 & 2\n",
       "\\end{array}\\right)</script></html>"
      ],
      "text/plain": [
       "[ 2 -2  4  0]\n",
       "[ 4  4  8 -2]\n",
       "[-2  2  6  2]"
      ]
     },
     "metadata": {},
     "output_type": "display_data"
    }
   ],
   "source": [
    "show(2*A)"
   ]
  },
  {
   "cell_type": "markdown",
   "metadata": {},
   "source": [
    "Suma de matrices:"
   ]
  },
  {
   "cell_type": "code",
   "execution_count": 13,
   "metadata": {},
   "outputs": [],
   "source": [
    "C=matrix(Zmod(3),[[1,2,0],[2,0,2]]);\n",
    "D=matrix(Zmod(3),[[2,1,1],[1,2,2]])"
   ]
  },
  {
   "cell_type": "code",
   "execution_count": 17,
   "metadata": {},
   "outputs": [
    {
     "data": {
      "text/html": [
       "<html><script type=\"math/tex; mode=display\">\\newcommand{\\Bold}[1]{\\mathbf{#1}}\\left(\\begin{array}{rrr}\n",
       "1 & 2 & 0 \\\\\n",
       "2 & 0 & 2\n",
       "\\end{array}\\right)</script></html>"
      ],
      "text/plain": [
       "[1 2 0]\n",
       "[2 0 2]"
      ]
     },
     "metadata": {},
     "output_type": "display_data"
    },
    {
     "data": {
      "text/html": [
       "<html><script type=\"math/tex; mode=display\">\\newcommand{\\Bold}[1]{\\mathbf{#1}}\\left(\\begin{array}{rrr}\n",
       "2 & 1 & 1 \\\\\n",
       "1 & 2 & 2\n",
       "\\end{array}\\right)</script></html>"
      ],
      "text/plain": [
       "[2 1 1]\n",
       "[1 2 2]"
      ]
     },
     "metadata": {},
     "output_type": "display_data"
    }
   ],
   "source": [
    "show(C); show(D)"
   ]
  },
  {
   "cell_type": "code",
   "execution_count": 15,
   "metadata": {},
   "outputs": [
    {
     "data": {
      "text/html": [
       "<html><script type=\"math/tex; mode=display\">\\newcommand{\\Bold}[1]{\\mathbf{#1}}\\left(\\begin{array}{rrr}\n",
       "0 & 0 & 1 \\\\\n",
       "0 & 2 & 1\n",
       "\\end{array}\\right)</script></html>"
      ],
      "text/plain": [
       "[0 0 1]\n",
       "[0 2 1]"
      ]
     },
     "metadata": {},
     "output_type": "display_data"
    }
   ],
   "source": [
    "show(C+D)"
   ]
  },
  {
   "cell_type": "markdown",
   "metadata": {},
   "source": [
    "Producto de matrices:"
   ]
  },
  {
   "cell_type": "code",
   "execution_count": 5,
   "metadata": {},
   "outputs": [],
   "source": [
    "E=matrix(QQ,[[1,3,4,-1],[2,1,0,3]]);\n",
    "F=column_matrix(QQ,[[1,2,2,0],[3,3,4,-1],[1,0,2,1]])"
   ]
  },
  {
   "cell_type": "code",
   "execution_count": 19,
   "metadata": {},
   "outputs": [
    {
     "data": {
      "text/html": [
       "<html><script type=\"math/tex; mode=display\">\\newcommand{\\Bold}[1]{\\mathbf{#1}}\\left(\\begin{array}{rrrr}\n",
       "1 & 3 & 4 & -1 \\\\\n",
       "2 & 1 & 0 & 3\n",
       "\\end{array}\\right)</script></html>"
      ],
      "text/plain": [
       "[ 1  3  4 -1]\n",
       "[ 2  1  0  3]"
      ]
     },
     "metadata": {},
     "output_type": "display_data"
    },
    {
     "data": {
      "text/html": [
       "<html><script type=\"math/tex; mode=display\">\\newcommand{\\Bold}[1]{\\mathbf{#1}}\\left(\\begin{array}{rrr}\n",
       "1 & 3 & 1 \\\\\n",
       "2 & 3 & 0 \\\\\n",
       "2 & 4 & 2 \\\\\n",
       "0 & -1 & 1\n",
       "\\end{array}\\right)</script></html>"
      ],
      "text/plain": [
       "[ 1  3  1]\n",
       "[ 2  3  0]\n",
       "[ 2  4  2]\n",
       "[ 0 -1  1]"
      ]
     },
     "metadata": {},
     "output_type": "display_data"
    }
   ],
   "source": [
    "show(E); show(F)"
   ]
  },
  {
   "cell_type": "code",
   "execution_count": 20,
   "metadata": {},
   "outputs": [
    {
     "data": {
      "text/html": [
       "<html><script type=\"math/tex; mode=display\">\\newcommand{\\Bold}[1]{\\mathbf{#1}}\\left(\\begin{array}{rrr}\n",
       "15 & 29 & 8 \\\\\n",
       "4 & 6 & 5\n",
       "\\end{array}\\right)</script></html>"
      ],
      "text/plain": [
       "[15 29  8]\n",
       "[ 4  6  5]"
      ]
     },
     "metadata": {},
     "output_type": "display_data"
    }
   ],
   "source": [
    "show(E*F)"
   ]
  },
  {
   "cell_type": "markdown",
   "metadata": {},
   "source": [
    "Matriz identidad:"
   ]
  },
  {
   "cell_type": "code",
   "execution_count": 22,
   "metadata": {},
   "outputs": [],
   "source": [
    "G=identity_matrix(QQ,4)"
   ]
  },
  {
   "cell_type": "code",
   "execution_count": 23,
   "metadata": {},
   "outputs": [
    {
     "data": {
      "text/html": [
       "<html><script type=\"math/tex; mode=display\">\\newcommand{\\Bold}[1]{\\mathbf{#1}}\\left(\\begin{array}{rrrr}\n",
       "1 & 0 & 0 & 0 \\\\\n",
       "0 & 1 & 0 & 0 \\\\\n",
       "0 & 0 & 1 & 0 \\\\\n",
       "0 & 0 & 0 & 1\n",
       "\\end{array}\\right)</script></html>"
      ],
      "text/plain": [
       "[1 0 0 0]\n",
       "[0 1 0 0]\n",
       "[0 0 1 0]\n",
       "[0 0 0 1]"
      ]
     },
     "metadata": {},
     "output_type": "display_data"
    }
   ],
   "source": [
    "show(G)"
   ]
  },
  {
   "cell_type": "markdown",
   "metadata": {},
   "source": [
    "Matriz nula:"
   ]
  },
  {
   "cell_type": "code",
   "execution_count": 1,
   "metadata": {},
   "outputs": [
    {
     "data": {
      "text/html": [
       "<html><script type=\"math/tex; mode=display\">\\newcommand{\\Bold}[1]{\\mathbf{#1}}\\left(\\begin{array}{rrrr}\n",
       "0 & 0 & 0 & 0 \\\\\n",
       "0 & 0 & 0 & 0 \\\\\n",
       "0 & 0 & 0 & 0 \\\\\n",
       "0 & 0 & 0 & 0 \\\\\n",
       "0 & 0 & 0 & 0\n",
       "\\end{array}\\right)</script></html>"
      ],
      "text/plain": [
       "[0 0 0 0]\n",
       "[0 0 0 0]\n",
       "[0 0 0 0]\n",
       "[0 0 0 0]\n",
       "[0 0 0 0]"
      ]
     },
     "metadata": {},
     "output_type": "display_data"
    }
   ],
   "source": [
    "H=matrix(QQ,5,4); show(H)"
   ]
  },
  {
   "cell_type": "markdown",
   "metadata": {},
   "source": [
    "Matriz traspuesta:"
   ]
  },
  {
   "cell_type": "code",
   "execution_count": 6,
   "metadata": {},
   "outputs": [
    {
     "data": {
      "text/html": [
       "<html><script type=\"math/tex; mode=display\">\\newcommand{\\Bold}[1]{\\mathbf{#1}}\\left(\\begin{array}{rrrr}\n",
       "1 & 3 & 4 & -1 \\\\\n",
       "2 & 1 & 0 & 3\n",
       "\\end{array}\\right)</script></html>"
      ],
      "text/plain": [
       "[ 1  3  4 -1]\n",
       "[ 2  1  0  3]"
      ]
     },
     "metadata": {},
     "output_type": "display_data"
    }
   ],
   "source": [
    "show(E)"
   ]
  },
  {
   "cell_type": "code",
   "execution_count": 8,
   "metadata": {},
   "outputs": [
    {
     "data": {
      "text/html": [
       "<html><script type=\"math/tex; mode=display\">\\newcommand{\\Bold}[1]{\\mathbf{#1}}\\left(\\begin{array}{rr}\n",
       "1 & 2 \\\\\n",
       "3 & 1 \\\\\n",
       "4 & 0 \\\\\n",
       "-1 & 3\n",
       "\\end{array}\\right)</script></html>"
      ],
      "text/plain": [
       "[ 1  2]\n",
       "[ 3  1]\n",
       "[ 4  0]\n",
       "[-1  3]"
      ]
     },
     "metadata": {},
     "output_type": "display_data"
    }
   ],
   "source": [
    "show(E.T)"
   ]
  },
  {
   "cell_type": "markdown",
   "metadata": {},
   "source": [
    "Matriz inversa:"
   ]
  },
  {
   "cell_type": "code",
   "execution_count": 14,
   "metadata": {},
   "outputs": [
    {
     "data": {
      "text/html": [
       "<html><script type=\"math/tex; mode=display\">\\newcommand{\\Bold}[1]{\\mathbf{#1}}\\left(\\begin{array}{rrr}\n",
       "2 & 2 & 2 \\\\\n",
       "2 & 0 & 1 \\\\\n",
       "1 & 1 & 2\n",
       "\\end{array}\\right)</script></html>"
      ],
      "text/plain": [
       "[2 2 2]\n",
       "[2 0 1]\n",
       "[1 1 2]"
      ]
     },
     "metadata": {},
     "output_type": "display_data"
    }
   ],
   "source": [
    "J=matrix(Zmod(3),[[2,2,2],[2,0,1],[1,1,2]]); show(J)"
   ]
  },
  {
   "cell_type": "code",
   "execution_count": 15,
   "metadata": {},
   "outputs": [
    {
     "data": {
      "text/html": [
       "<html><script type=\"math/tex; mode=display\">\\newcommand{\\Bold}[1]{\\mathbf{#1}}\\left(\\begin{array}{rrr}\n",
       "1 & 2 & 1 \\\\\n",
       "0 & 1 & 1 \\\\\n",
       "1 & 0 & 1\n",
       "\\end{array}\\right)</script></html>"
      ],
      "text/plain": [
       "[1 2 1]\n",
       "[0 1 1]\n",
       "[1 0 1]"
      ]
     },
     "metadata": {},
     "output_type": "display_data"
    }
   ],
   "source": [
    "K=J^-1; show(K)"
   ]
  },
  {
   "cell_type": "code",
   "execution_count": 16,
   "metadata": {},
   "outputs": [
    {
     "data": {
      "text/html": [
       "<html><script type=\"math/tex; mode=display\">\\newcommand{\\Bold}[1]{\\mathbf{#1}}\\left(\\begin{array}{rrr}\n",
       "1 & 0 & 0 \\\\\n",
       "0 & 1 & 0 \\\\\n",
       "0 & 0 & 1\n",
       "\\end{array}\\right)</script></html>"
      ],
      "text/plain": [
       "[1 0 0]\n",
       "[0 1 0]\n",
       "[0 0 1]"
      ]
     },
     "metadata": {},
     "output_type": "display_data"
    },
    {
     "data": {
      "text/html": [
       "<html><script type=\"math/tex; mode=display\">\\newcommand{\\Bold}[1]{\\mathbf{#1}}\\left(\\begin{array}{rrr}\n",
       "1 & 0 & 0 \\\\\n",
       "0 & 1 & 0 \\\\\n",
       "0 & 0 & 1\n",
       "\\end{array}\\right)</script></html>"
      ],
      "text/plain": [
       "[1 0 0]\n",
       "[0 1 0]\n",
       "[0 0 1]"
      ]
     },
     "metadata": {},
     "output_type": "display_data"
    }
   ],
   "source": [
    "show(J*K); show(K*J) # comprobación"
   ]
  },
  {
   "cell_type": "code",
   "execution_count": null,
   "metadata": {},
   "outputs": [],
   "source": []
  }
 ],
 "metadata": {
  "kernelspec": {
   "display_name": "SageMath 9.1",
   "language": "sage",
   "name": "sagemath"
  },
  "language_info": {
   "codemirror_mode": {
    "name": "ipython",
    "version": 3
   },
   "file_extension": ".py",
   "mimetype": "text/x-python",
   "name": "python",
   "nbconvert_exporter": "python",
   "pygments_lexer": "ipython3",
   "version": "3.7.3"
  }
 },
 "nbformat": 4,
 "nbformat_minor": 2
}
