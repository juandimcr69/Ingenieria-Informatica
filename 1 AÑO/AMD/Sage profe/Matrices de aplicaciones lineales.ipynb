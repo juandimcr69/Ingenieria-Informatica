{
 "cells": [
  {
   "cell_type": "markdown",
   "metadata": {},
   "source": [
    "# Matrices de aplicaciones lineales"
   ]
  },
  {
   "cell_type": "markdown",
   "metadata": {},
   "source": [
    "Ejercicio 133 (t17)"
   ]
  },
  {
   "cell_type": "code",
   "execution_count": 3,
   "metadata": {},
   "outputs": [
    {
     "data": {
      "text/html": [
       "<html><script type=\"math/tex; mode=display\">\\newcommand{\\Bold}[1]{\\mathbf{#1}}\\left(\\begin{array}{rr}\n",
       "4 & 3 \\\\\n",
       "2 & 3\n",
       "\\end{array}\\right)</script></html>"
      ],
      "text/plain": [
       "[4 3]\n",
       "[2 3]"
      ]
     },
     "metadata": {},
     "output_type": "display_data"
    }
   ],
   "source": [
    "M=matrix(Zmod(5),[[4,3],[2,3]]); show(M) # Matriz en base canónica."
   ]
  },
  {
   "cell_type": "code",
   "execution_count": 4,
   "metadata": {},
   "outputs": [
    {
     "data": {
      "text/html": [
       "<html><script type=\"math/tex; mode=display\">\\newcommand{\\Bold}[1]{\\mathbf{#1}}\\left(\\begin{array}{rr}\n",
       "2 & 4 \\\\\n",
       "2 & 2\n",
       "\\end{array}\\right)</script></html>"
      ],
      "text/plain": [
       "[2 4]\n",
       "[2 2]"
      ]
     },
     "metadata": {},
     "output_type": "display_data"
    }
   ],
   "source": [
    "Bp=column_matrix(Zmod(5),[[2,2],[4,2]]); show(Bp)"
   ]
  },
  {
   "cell_type": "code",
   "execution_count": 5,
   "metadata": {},
   "outputs": [
    {
     "data": {
      "text/html": [
       "<html><script type=\"math/tex; mode=display\">\\newcommand{\\Bold}[1]{\\mathbf{#1}}\\left(\\begin{array}{rr}\n",
       "2 & 2 \\\\\n",
       "3 & 1\n",
       "\\end{array}\\right)</script></html>"
      ],
      "text/plain": [
       "[2 2]\n",
       "[3 1]"
      ]
     },
     "metadata": {},
     "output_type": "display_data"
    }
   ],
   "source": [
    "B=column_matrix(Zmod(5),[[2,3],[2,1]]); show(B)"
   ]
  },
  {
   "cell_type": "code",
   "execution_count": 6,
   "metadata": {},
   "outputs": [],
   "source": [
    "# La matriz de la aplicación lineal respecto de las bases Bp y B es:"
   ]
  },
  {
   "cell_type": "code",
   "execution_count": 8,
   "metadata": {},
   "outputs": [
    {
     "data": {
      "text/html": [
       "<html><script type=\"math/tex; mode=display\">\\newcommand{\\Bold}[1]{\\mathbf{#1}}\\left(\\begin{array}{rr}\n",
       "4 & 4 \\\\\n",
       "3 & 2\n",
       "\\end{array}\\right)</script></html>"
      ],
      "text/plain": [
       "[4 4]\n",
       "[3 2]"
      ]
     },
     "metadata": {},
     "output_type": "display_data"
    }
   ],
   "source": [
    "MM=B^-1*M*Bp; show(MM)"
   ]
  },
  {
   "cell_type": "code",
   "execution_count": 9,
   "metadata": {},
   "outputs": [],
   "source": [
    "restore('M Bp B MM')"
   ]
  },
  {
   "cell_type": "markdown",
   "metadata": {},
   "source": [
    "Ejercicio 132 (t17)"
   ]
  },
  {
   "cell_type": "code",
   "execution_count": 12,
   "metadata": {},
   "outputs": [
    {
     "data": {
      "text/html": [
       "<html><script type=\"math/tex; mode=display\">\\newcommand{\\Bold}[1]{\\mathbf{#1}}\\left(\\begin{array}{rrrr}\n",
       "1 & 4 & 4 & 1 \\\\\n",
       "0 & 1 & 2 & 2 \\\\\n",
       "1 & 2 & 1 & 3 \\\\\n",
       "4 & 2 & 4 & 3\n",
       "\\end{array}\\right)</script></html>"
      ],
      "text/plain": [
       "[1 4 4 1]\n",
       "[0 1 2 2]\n",
       "[1 2 1 3]\n",
       "[4 2 4 3]"
      ]
     },
     "metadata": {},
     "output_type": "display_data"
    }
   ],
   "source": [
    "B1=column_matrix(Zmod(5),[[1,0,1,4],[4,1,2,2],[4,2,1,4],[1,2,3,3]]); show(B1)"
   ]
  },
  {
   "cell_type": "code",
   "execution_count": 13,
   "metadata": {},
   "outputs": [],
   "source": [
    "# Matriz de la aplicación lineal respecto de la base canónica de K^2 y B1:"
   ]
  },
  {
   "cell_type": "code",
   "execution_count": 14,
   "metadata": {},
   "outputs": [
    {
     "data": {
      "text/html": [
       "<html><script type=\"math/tex; mode=display\">\\newcommand{\\Bold}[1]{\\mathbf{#1}}\\left(\\begin{array}{rr}\n",
       "2 & 1 \\\\\n",
       "2 & 1 \\\\\n",
       "3 & 4 \\\\\n",
       "1 & 3\n",
       "\\end{array}\\right)</script></html>"
      ],
      "text/plain": [
       "[2 1]\n",
       "[2 1]\n",
       "[3 4]\n",
       "[1 3]"
      ]
     },
     "metadata": {},
     "output_type": "display_data"
    }
   ],
   "source": [
    "M1=column_matrix(Zmod(5),[[2,2,3,1],[1,1,4,3]]); show(M1)"
   ]
  },
  {
   "cell_type": "code",
   "execution_count": 15,
   "metadata": {},
   "outputs": [
    {
     "data": {
      "text/html": [
       "<html><script type=\"math/tex; mode=display\">\\newcommand{\\Bold}[1]{\\mathbf{#1}}\\left(\\begin{array}{rrrr}\n",
       "1 & 0 & 0 & 3 \\\\\n",
       "0 & 1 & 2 & 3 \\\\\n",
       "3 & 2 & 0 & 0 \\\\\n",
       "0 & 4 & 2 & 3\n",
       "\\end{array}\\right)</script></html>"
      ],
      "text/plain": [
       "[1 0 0 3]\n",
       "[0 1 2 3]\n",
       "[3 2 0 0]\n",
       "[0 4 2 3]"
      ]
     },
     "metadata": {},
     "output_type": "display_data"
    }
   ],
   "source": [
    "B2=column_matrix(Zmod(5),[[1,0,3,0],[0,1,2,4],[0,2,0,2],[3,3,0,3]]); show(B2)"
   ]
  },
  {
   "cell_type": "code",
   "execution_count": 16,
   "metadata": {},
   "outputs": [],
   "source": [
    "# La matriz de la aplicación lineal respecto de la base canónica de K^2 y B2 es:"
   ]
  },
  {
   "cell_type": "code",
   "execution_count": 18,
   "metadata": {},
   "outputs": [
    {
     "data": {
      "text/html": [
       "<html><script type=\"math/tex; mode=display\">\\newcommand{\\Bold}[1]{\\mathbf{#1}}\\left(\\begin{array}{rr}\n",
       "3 & 4 \\\\\n",
       "4 & 2 \\\\\n",
       "3 & 4 \\\\\n",
       "0 & 0\n",
       "\\end{array}\\right)</script></html>"
      ],
      "text/plain": [
       "[3 4]\n",
       "[4 2]\n",
       "[3 4]\n",
       "[0 0]"
      ]
     },
     "metadata": {},
     "output_type": "display_data"
    }
   ],
   "source": [
    "M2=B2^-1*B1*M1; show(M2)"
   ]
  },
  {
   "cell_type": "code",
   "execution_count": 19,
   "metadata": {},
   "outputs": [],
   "source": [
    "restore('B1 M1 B2 M2')"
   ]
  },
  {
   "cell_type": "markdown",
   "metadata": {},
   "source": [
    "Ejercicio 143 (t17)"
   ]
  },
  {
   "cell_type": "code",
   "execution_count": 24,
   "metadata": {},
   "outputs": [
    {
     "data": {
      "text/html": [
       "<html><script type=\"math/tex; mode=display\">\\newcommand{\\Bold}[1]{\\mathbf{#1}}\\left(\\begin{array}{rr}\n",
       "1 & 4 \\\\\n",
       "0 & 1\n",
       "\\end{array}\\right)</script></html>"
      ],
      "text/plain": [
       "[1 4]\n",
       "[0 1]"
      ]
     },
     "metadata": {},
     "output_type": "display_data"
    }
   ],
   "source": [
    "B1=column_matrix(Zmod(5),[[1,0],[4,1]]); show(B1)"
   ]
  },
  {
   "cell_type": "code",
   "execution_count": 22,
   "metadata": {},
   "outputs": [],
   "source": [
    "# Matriz de la aplicación lineal f respecto de B1 y la base canónica de K^3:"
   ]
  },
  {
   "cell_type": "code",
   "execution_count": 23,
   "metadata": {},
   "outputs": [
    {
     "data": {
      "text/html": [
       "<html><script type=\"math/tex; mode=display\">\\newcommand{\\Bold}[1]{\\mathbf{#1}}\\left(\\begin{array}{rr}\n",
       "2 & 1 \\\\\n",
       "0 & 0 \\\\\n",
       "4 & 2\n",
       "\\end{array}\\right)</script></html>"
      ],
      "text/plain": [
       "[2 1]\n",
       "[0 0]\n",
       "[4 2]"
      ]
     },
     "metadata": {},
     "output_type": "display_data"
    }
   ],
   "source": [
    "M1=column_matrix(Zmod(5),[[2,0,4],[1,0,2]]); show(M1)"
   ]
  },
  {
   "cell_type": "code",
   "execution_count": 25,
   "metadata": {},
   "outputs": [
    {
     "data": {
      "text/html": [
       "<html><script type=\"math/tex; mode=display\">\\newcommand{\\Bold}[1]{\\mathbf{#1}}\\left(\\begin{array}{rr}\n",
       "1 & 3 \\\\\n",
       "0 & 1\n",
       "\\end{array}\\right)</script></html>"
      ],
      "text/plain": [
       "[1 3]\n",
       "[0 1]"
      ]
     },
     "metadata": {},
     "output_type": "display_data"
    }
   ],
   "source": [
    "B2=column_matrix(Zmod(5),[[1,0],[3,1]]); show(B2)"
   ]
  },
  {
   "cell_type": "code",
   "execution_count": 26,
   "metadata": {},
   "outputs": [],
   "source": [
    "# La matriz de la aplicación lineal respecto de B2 y la base canónica de K^3 es:"
   ]
  },
  {
   "cell_type": "code",
   "execution_count": 27,
   "metadata": {},
   "outputs": [
    {
     "data": {
      "text/html": [
       "<html><script type=\"math/tex; mode=display\">\\newcommand{\\Bold}[1]{\\mathbf{#1}}\\left(\\begin{array}{rr}\n",
       "2 & 4 \\\\\n",
       "0 & 0 \\\\\n",
       "4 & 3\n",
       "\\end{array}\\right)</script></html>"
      ],
      "text/plain": [
       "[2 4]\n",
       "[0 0]\n",
       "[4 3]"
      ]
     },
     "metadata": {},
     "output_type": "display_data"
    }
   ],
   "source": [
    "M2=M1*B1^-1*B2; show(M2)"
   ]
  }
 ],
 "metadata": {
  "kernelspec": {
   "display_name": "SageMath 9.1",
   "language": "sage",
   "name": "sagemath"
  },
  "language_info": {
   "codemirror_mode": {
    "name": "ipython",
    "version": 3
   },
   "file_extension": ".py",
   "mimetype": "text/x-python",
   "name": "python",
   "nbconvert_exporter": "python",
   "pygments_lexer": "ipython3",
   "version": "3.7.3"
  }
 },
 "nbformat": 4,
 "nbformat_minor": 2
}
