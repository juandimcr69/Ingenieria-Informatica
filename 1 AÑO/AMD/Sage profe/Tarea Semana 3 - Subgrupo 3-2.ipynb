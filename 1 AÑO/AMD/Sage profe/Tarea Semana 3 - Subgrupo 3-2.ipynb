{
 "cells": [
  {
   "cell_type": "markdown",
   "metadata": {},
   "source": [
    "# Tarea Semana 3 - Subgrupo 3-2"
   ]
  },
  {
   "cell_type": "markdown",
   "metadata": {},
   "source": [
    "Ejercicio 1"
   ]
  },
  {
   "cell_type": "code",
   "execution_count": 1,
   "metadata": {},
   "outputs": [],
   "source": [
    "# La matriz de coeficientes es:"
   ]
  },
  {
   "cell_type": "code",
   "execution_count": 2,
   "metadata": {},
   "outputs": [
    {
     "data": {
      "text/html": [
       "<html><script type=\"math/tex; mode=display\">\\newcommand{\\Bold}[1]{\\mathbf{#1}}\\left(\\begin{array}{rrrr}\n",
       "0 & 3 & 3 & 2 \\\\\n",
       "3 & 0 & 3 & 1 \\\\\n",
       "1 & 1 & 2 & 1\n",
       "\\end{array}\\right)</script></html>"
      ],
      "text/plain": [
       "[0 3 3 2]\n",
       "[3 0 3 1]\n",
       "[1 1 2 1]"
      ]
     },
     "metadata": {},
     "output_type": "display_data"
    }
   ],
   "source": [
    "A=matrix(Zmod(5),[[0,3,3,2],[3,0,3,1],[1,1,2,1]]); show(A)"
   ]
  },
  {
   "cell_type": "code",
   "execution_count": 3,
   "metadata": {},
   "outputs": [],
   "source": [
    "# La matriz columna de los términos independientes es:"
   ]
  },
  {
   "cell_type": "code",
   "execution_count": 4,
   "metadata": {},
   "outputs": [
    {
     "data": {
      "text/html": [
       "<html><script type=\"math/tex; mode=display\">\\newcommand{\\Bold}[1]{\\mathbf{#1}}\\left(\\begin{array}{r}\n",
       "1 \\\\\n",
       "2 \\\\\n",
       "1\n",
       "\\end{array}\\right)</script></html>"
      ],
      "text/plain": [
       "[1]\n",
       "[2]\n",
       "[1]"
      ]
     },
     "metadata": {},
     "output_type": "display_data"
    }
   ],
   "source": [
    "B=column_matrix(Zmod(5),[1,2,1]); show(B)"
   ]
  },
  {
   "cell_type": "code",
   "execution_count": 5,
   "metadata": {},
   "outputs": [],
   "source": [
    "# Por tanto, la matriz ampliada del sistema es:"
   ]
  },
  {
   "cell_type": "code",
   "execution_count": 6,
   "metadata": {},
   "outputs": [
    {
     "data": {
      "text/html": [
       "<html><script type=\"math/tex; mode=display\">\\newcommand{\\Bold}[1]{\\mathbf{#1}}\\left(\\begin{array}{rrrr|r}\n",
       "0 & 3 & 3 & 2 & 1 \\\\\n",
       "3 & 0 & 3 & 1 & 2 \\\\\n",
       "1 & 1 & 2 & 1 & 1\n",
       "\\end{array}\\right)</script></html>"
      ],
      "text/plain": [
       "[0 3 3 2|1]\n",
       "[3 0 3 1|2]\n",
       "[1 1 2 1|1]"
      ]
     },
     "metadata": {},
     "output_type": "display_data"
    }
   ],
   "source": [
    "AB=block_matrix([[A,B]]); show(AB)"
   ]
  },
  {
   "cell_type": "code",
   "execution_count": 7,
   "metadata": {},
   "outputs": [],
   "source": [
    "# Calculamos su reducida por filas:"
   ]
  },
  {
   "cell_type": "code",
   "execution_count": 8,
   "metadata": {},
   "outputs": [
    {
     "data": {
      "text/html": [
       "<html><script type=\"math/tex; mode=display\">\\newcommand{\\Bold}[1]{\\mathbf{#1}}\\left(\\begin{array}{rrrr|r}\n",
       "1 & 0 & 1 & 2 & 4 \\\\\n",
       "0 & 1 & 1 & 4 & 2 \\\\\n",
       "0 & 0 & 0 & 0 & 0\n",
       "\\end{array}\\right)</script></html>"
      ],
      "text/plain": [
       "[1 0 1 2|4]\n",
       "[0 1 1 4|2]\n",
       "[0 0 0 0|0]"
      ]
     },
     "metadata": {},
     "output_type": "display_data"
    }
   ],
   "source": [
    "C=AB.echelon_form(); show(C)"
   ]
  },
  {
   "cell_type": "code",
   "execution_count": 9,
   "metadata": {},
   "outputs": [],
   "source": [
    "# La columna correspondiente a los términos independientes no es pivote,\n",
    "# y hay dos columnas de la parte de los coeficientes que tampoco son pivote,\n",
    "# luego el sistema es compatible indeterminado."
   ]
  },
  {
   "cell_type": "code",
   "execution_count": 18,
   "metadata": {},
   "outputs": [],
   "source": [
    "# Hacemos parámetros las variables x_3 y x_4 (las que corresponden a columnas no pivote)\n",
    "# y las soluciones del sistema son de la forma:\n",
    "#        x_1 = 4*a + 3*b + 4\n",
    "#        x_2 = 4*a + b + 2\n",
    "#        x_3 = a\n",
    "#        x_4 = b\n",
    "# donde a y b toman cualquier valor de Z_5."
   ]
  },
  {
   "cell_type": "code",
   "execution_count": 20,
   "metadata": {},
   "outputs": [],
   "source": [
    "restore('A B AB C') # limpiamos las variables"
   ]
  },
  {
   "cell_type": "markdown",
   "metadata": {},
   "source": [
    "Ejercicio 2"
   ]
  },
  {
   "cell_type": "code",
   "execution_count": 22,
   "metadata": {},
   "outputs": [
    {
     "data": {
      "text/html": [
       "<html><script type=\"math/tex; mode=display\">\\newcommand{\\Bold}[1]{\\mathbf{#1}}\\left(\\begin{array}{r|rr}\n",
       "35 & 1 & 0 \\\\\n",
       "-63 & 0 & 1\n",
       "\\end{array}\\right)</script></html>"
      ],
      "text/plain": [
       "[ 35|  1   0]\n",
       "[-63|  0   1]"
      ]
     },
     "metadata": {},
     "output_type": "display_data"
    }
   ],
   "source": [
    "A=column_matrix(ZZ,[35,-63]);\n",
    "AA=block_matrix([[A,1]]); show(AA)"
   ]
  },
  {
   "cell_type": "code",
   "execution_count": 32,
   "metadata": {},
   "outputs": [],
   "source": [
    "# Calculamos su reducida por filas (trabajando en Z):"
   ]
  },
  {
   "cell_type": "code",
   "execution_count": 23,
   "metadata": {},
   "outputs": [
    {
     "data": {
      "text/html": [
       "<html><script type=\"math/tex; mode=display\">\\newcommand{\\Bold}[1]{\\mathbf{#1}}\\left(\\begin{array}{rrr}\n",
       "7 & 2 & 1 \\\\\n",
       "0 & 9 & 5\n",
       "\\end{array}\\right)</script></html>"
      ],
      "text/plain": [
       "[7 2 1]\n",
       "[0 9 5]"
      ]
     },
     "metadata": {},
     "output_type": "display_data"
    }
   ],
   "source": [
    "C=AA.echelon_form(); show(C)"
   ]
  },
  {
   "cell_type": "code",
   "execution_count": 24,
   "metadata": {},
   "outputs": [],
   "source": [
    "# A partir de la reducción anterior, tenemos\n",
    "# 1º) 35*2 + (-63)*1 = 7 = mcd(35,-63). Como 7 divide a 119 = 7*17, la ecuación diofántica tiene solución.\n",
    "# 2º) 35*9 + (-63)*5 = 0. "
   ]
  },
  {
   "cell_type": "code",
   "execution_count": 27,
   "metadata": {},
   "outputs": [],
   "source": [
    "# Por tanto, las soluciones de la ecuación diofántica son de la forma:\n",
    "# x = 34 + 9*t, y = 17 + 5*t, donde t toma cualquier valor entero."
   ]
  },
  {
   "cell_type": "code",
   "execution_count": 29,
   "metadata": {},
   "outputs": [],
   "source": [
    "restore('A AA C') # limpiamos las variables"
   ]
  },
  {
   "cell_type": "markdown",
   "metadata": {},
   "source": [
    "Ejercicio 3"
   ]
  },
  {
   "cell_type": "code",
   "execution_count": 1,
   "metadata": {},
   "outputs": [
    {
     "data": {
      "text/html": [
       "<html><script type=\"math/tex; mode=display\">\\newcommand{\\Bold}[1]{\\mathbf{#1}}\\left(\\begin{array}{rr}\n",
       "1 & 0 \\\\\n",
       "0 & 1 \\\\\n",
       "2 & 0\n",
       "\\end{array}\\right)</script></html>"
      ],
      "text/plain": [
       "[1 0]\n",
       "[0 1]\n",
       "[2 0]"
      ]
     },
     "metadata": {},
     "output_type": "display_data"
    }
   ],
   "source": [
    "B=matrix(Zmod(3),[[1,0],[0,1],[2,0]]); show(B)"
   ]
  },
  {
   "cell_type": "code",
   "execution_count": 2,
   "metadata": {},
   "outputs": [
    {
     "data": {
      "text/html": [
       "<html><script type=\"math/tex; mode=display\">\\newcommand{\\Bold}[1]{\\mathbf{#1}}\\left(\\begin{array}{rr|rrr}\n",
       "1 & 0 & 1 & 0 & 0 \\\\\n",
       "0 & 1 & 0 & 1 & 0 \\\\\n",
       "2 & 0 & 0 & 0 & 1\n",
       "\\end{array}\\right)</script></html>"
      ],
      "text/plain": [
       "[1 0|1 0 0]\n",
       "[0 1|0 1 0]\n",
       "[2 0|0 0 1]"
      ]
     },
     "metadata": {},
     "output_type": "display_data"
    }
   ],
   "source": [
    "BB=block_matrix([[B,1]]); show(BB)"
   ]
  },
  {
   "cell_type": "code",
   "execution_count": 37,
   "metadata": {},
   "outputs": [],
   "source": [
    "# Calculamos la reducida por filas:"
   ]
  },
  {
   "cell_type": "code",
   "execution_count": 3,
   "metadata": {},
   "outputs": [
    {
     "data": {
      "text/html": [
       "<html><script type=\"math/tex; mode=display\">\\newcommand{\\Bold}[1]{\\mathbf{#1}}\\left(\\begin{array}{rr|rrr}\n",
       "1 & 0 & 0 & 0 & 2 \\\\\n",
       "0 & 1 & 0 & 1 & 0 \\\\\n",
       "0 & 0 & 1 & 0 & 1\n",
       "\\end{array}\\right)</script></html>"
      ],
      "text/plain": [
       "[1 0|0 0 2]\n",
       "[0 1|0 1 0]\n",
       "[0 0|1 0 1]"
      ]
     },
     "metadata": {},
     "output_type": "display_data"
    }
   ],
   "source": [
    "D=BB.echelon_form(); show(D)"
   ]
  },
  {
   "cell_type": "code",
   "execution_count": 4,
   "metadata": {},
   "outputs": [
    {
     "data": {
      "text/html": [
       "<html><script type=\"math/tex; mode=display\">\\newcommand{\\Bold}[1]{\\mathbf{#1}}\\left(\\begin{array}{rr|rrr}\n",
       "1 & 0 & 0 & 0 & 2 \\\\\n",
       "0 & 1 & 0 & 1 & 0 \\\\\n",
       "\\hline\n",
       " 0 & 0 & 1 & 0 & 1\n",
       "\\end{array}\\right)</script></html>"
      ],
      "text/plain": [
       "[1 0|0 0 2]\n",
       "[0 1|0 1 0]\n",
       "[---+-----]\n",
       "[0 0|1 0 1]"
      ]
     },
     "metadata": {},
     "output_type": "display_data"
    }
   ],
   "source": [
    "D=copy(D); D.subdivide([2],[2]); show(D)"
   ]
  },
  {
   "cell_type": "code",
   "execution_count": 5,
   "metadata": {},
   "outputs": [
    {
     "data": {
      "text/html": [
       "<html><script type=\"math/tex; mode=display\">\\newcommand{\\Bold}[1]{\\mathbf{#1}}\\left(\\begin{array}{rrr}\n",
       "0 & 0 & 2 \\\\\n",
       "0 & 1 & 0\n",
       "\\end{array}\\right)</script></html>"
      ],
      "text/plain": [
       "[0 0 2]\n",
       "[0 1 0]"
      ]
     },
     "metadata": {},
     "output_type": "display_data"
    },
    {
     "data": {
      "text/html": [
       "<html><script type=\"math/tex; mode=display\">\\newcommand{\\Bold}[1]{\\mathbf{#1}}\\left(\\begin{array}{rrr}\n",
       "1 & 0 & 1\n",
       "\\end{array}\\right)</script></html>"
      ],
      "text/plain": [
       "[1 0 1]"
      ]
     },
     "metadata": {},
     "output_type": "display_data"
    }
   ],
   "source": [
    "A=D.subdivision(0,1); H=D.subdivision(1,1); show(A); show(H)"
   ]
  },
  {
   "cell_type": "code",
   "execution_count": 6,
   "metadata": {},
   "outputs": [],
   "source": [
    "# Las inversas laterales por la izquierda de B son de la forma\n",
    "# A+C*H, siendo C una matriz de parámetros de tamaño 2x1."
   ]
  },
  {
   "cell_type": "code",
   "execution_count": 40,
   "metadata": {},
   "outputs": [],
   "source": [
    "# Vamos a calcular esto en SAGE:"
   ]
  },
  {
   "cell_type": "code",
   "execution_count": 7,
   "metadata": {},
   "outputs": [],
   "source": [
    "R=PolynomialRing(Zmod(3),2,\"c\") # Llamamos R al anillo de polinomios sobre Z_3 en dos variables. "
   ]
  },
  {
   "cell_type": "code",
   "execution_count": 8,
   "metadata": {},
   "outputs": [
    {
     "data": {
      "text/html": [
       "<html><script type=\"math/tex; mode=display\">\\newcommand{\\Bold}[1]{\\mathbf{#1}}\\left(\\begin{array}{r}\n",
       "c_{0} \\\\\n",
       "c_{1}\n",
       "\\end{array}\\right)</script></html>"
      ],
      "text/plain": [
       "[c0]\n",
       "[c1]"
      ]
     },
     "metadata": {},
     "output_type": "display_data"
    }
   ],
   "source": [
    "C=matrix(R,2,1,R.gens()); show(C)"
   ]
  },
  {
   "cell_type": "code",
   "execution_count": 44,
   "metadata": {},
   "outputs": [],
   "source": [
    "# Así las inversas laterales por la izquierda de B son las matrices:"
   ]
  },
  {
   "cell_type": "code",
   "execution_count": 9,
   "metadata": {},
   "outputs": [
    {
     "data": {
      "text/html": [
       "<html><script type=\"math/tex; mode=display\">\\newcommand{\\Bold}[1]{\\mathbf{#1}}\\left(\\begin{array}{rrr}\n",
       "c_{0} & 0 & c_{0} + 2 \\\\\n",
       "c_{1} & 1 & c_{1}\n",
       "\\end{array}\\right)</script></html>"
      ],
      "text/plain": [
       "[    c0      0 c0 + 2]\n",
       "[    c1      1     c1]"
      ]
     },
     "metadata": {},
     "output_type": "display_data"
    }
   ],
   "source": [
    "show(A+C*H)"
   ]
  },
  {
   "cell_type": "code",
   "execution_count": 10,
   "metadata": {},
   "outputs": [],
   "source": [
    "# donde c_0 y c_1 toman cualquier valor en Z_3."
   ]
  },
  {
   "cell_type": "code",
   "execution_count": 12,
   "metadata": {},
   "outputs": [
    {
     "data": {
      "text/html": [
       "<html><script type=\"math/tex; mode=display\">\\newcommand{\\Bold}[1]{\\mathbf{#1}}\\left(\\begin{array}{rr}\n",
       "1 & 0 \\\\\n",
       "0 & 1\n",
       "\\end{array}\\right)</script></html>"
      ],
      "text/plain": [
       "[1 0]\n",
       "[0 1]"
      ]
     },
     "metadata": {},
     "output_type": "display_data"
    }
   ],
   "source": [
    "show((A+C*H)*B) # comprobación"
   ]
  }
 ],
 "metadata": {
  "kernelspec": {
   "display_name": "SageMath 9.1",
   "language": "sage",
   "name": "sagemath"
  },
  "language_info": {
   "codemirror_mode": {
    "name": "ipython",
    "version": 3
   },
   "file_extension": ".py",
   "mimetype": "text/x-python",
   "name": "python",
   "nbconvert_exporter": "python",
   "pygments_lexer": "ipython3",
   "version": "3.7.3"
  }
 },
 "nbformat": 4,
 "nbformat_minor": 2
}
