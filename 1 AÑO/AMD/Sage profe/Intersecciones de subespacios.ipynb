{
 "cells": [
  {
   "cell_type": "markdown",
   "metadata": {},
   "source": [
    "# Intersecciones de subespacios"
   ]
  },
  {
   "cell_type": "markdown",
   "metadata": {},
   "source": [
    "Ejercicio 105 (t20)"
   ]
  },
  {
   "cell_type": "code",
   "execution_count": 1,
   "metadata": {},
   "outputs": [],
   "source": [
    "# El espacio V=C(B) está generado por las columnas de la matriz:"
   ]
  },
  {
   "cell_type": "code",
   "execution_count": 2,
   "metadata": {},
   "outputs": [
    {
     "data": {
      "text/html": [
       "<html><script type=\"math/tex; mode=display\">\\newcommand{\\Bold}[1]{\\mathbf{#1}}\\left(\\begin{array}{rr}\n",
       "1 & 0 \\\\\n",
       "2 & 1 \\\\\n",
       "0 & 0 \\\\\n",
       "2 & 1 \\\\\n",
       "1 & 1\n",
       "\\end{array}\\right)</script></html>"
      ],
      "text/plain": [
       "[1 0]\n",
       "[2 1]\n",
       "[0 0]\n",
       "[2 1]\n",
       "[1 1]"
      ]
     },
     "metadata": {},
     "output_type": "display_data"
    }
   ],
   "source": [
    "B=column_matrix(Zmod(3),[[1,2,0,2,1],[0,1,0,1,1]]); show(B)"
   ]
  },
  {
   "cell_type": "code",
   "execution_count": 3,
   "metadata": {},
   "outputs": [],
   "source": [
    "# El espacio U=N(H') es el anulador por la derecha de la matriz:"
   ]
  },
  {
   "cell_type": "code",
   "execution_count": 4,
   "metadata": {},
   "outputs": [
    {
     "data": {
      "text/html": [
       "<html><script type=\"math/tex; mode=display\">\\newcommand{\\Bold}[1]{\\mathbf{#1}}\\left(\\begin{array}{rrrrr}\n",
       "2 & 0 & 1 & 2 & 1 \\\\\n",
       "2 & 1 & 1 & 0 & 0 \\\\\n",
       "1 & 2 & 0 & 0 & 0\n",
       "\\end{array}\\right)</script></html>"
      ],
      "text/plain": [
       "[2 0 1 2 1]\n",
       "[2 1 1 0 0]\n",
       "[1 2 0 0 0]"
      ]
     },
     "metadata": {},
     "output_type": "display_data"
    }
   ],
   "source": [
    "Hp=matrix(Zmod(3),[[2,0,1,2,1],[2,1,1,0,0],[1,2,0,0,0]]); show(Hp)"
   ]
  },
  {
   "cell_type": "code",
   "execution_count": 5,
   "metadata": {},
   "outputs": [],
   "source": [
    "# Calculamos las ecuaciones implícitas de V:"
   ]
  },
  {
   "cell_type": "code",
   "execution_count": 6,
   "metadata": {},
   "outputs": [
    {
     "data": {
      "text/html": [
       "<html><script type=\"math/tex; mode=display\">\\newcommand{\\Bold}[1]{\\mathbf{#1}}\\left(\\begin{array}{rr|rrrrr}\n",
       "1 & 0 & 1 & 0 & 0 & 0 & 0 \\\\\n",
       "2 & 1 & 0 & 1 & 0 & 0 & 0 \\\\\n",
       "0 & 0 & 0 & 0 & 1 & 0 & 0 \\\\\n",
       "2 & 1 & 0 & 0 & 0 & 1 & 0 \\\\\n",
       "1 & 1 & 0 & 0 & 0 & 0 & 1\n",
       "\\end{array}\\right)</script></html>"
      ],
      "text/plain": [
       "[1 0|1 0 0 0 0]\n",
       "[2 1|0 1 0 0 0]\n",
       "[0 0|0 0 1 0 0]\n",
       "[2 1|0 0 0 1 0]\n",
       "[1 1|0 0 0 0 1]"
      ]
     },
     "metadata": {},
     "output_type": "display_data"
    }
   ],
   "source": [
    "aux=block_matrix([[B,1]]); show(aux)"
   ]
  },
  {
   "cell_type": "code",
   "execution_count": 7,
   "metadata": {},
   "outputs": [
    {
     "data": {
      "text/html": [
       "<html><script type=\"math/tex; mode=display\">\\newcommand{\\Bold}[1]{\\mathbf{#1}}\\left(\\begin{array}{rr|rrrrr}\n",
       "1 & 0 & 0 & 0 & 0 & 1 & 2 \\\\\n",
       "0 & 1 & 0 & 0 & 0 & 2 & 2 \\\\\n",
       "0 & 0 & 1 & 0 & 0 & 2 & 1 \\\\\n",
       "0 & 0 & 0 & 1 & 0 & 2 & 0 \\\\\n",
       "0 & 0 & 0 & 0 & 1 & 0 & 0\n",
       "\\end{array}\\right)</script></html>"
      ],
      "text/plain": [
       "[1 0|0 0 0 1 2]\n",
       "[0 1|0 0 0 2 2]\n",
       "[0 0|1 0 0 2 1]\n",
       "[0 0|0 1 0 2 0]\n",
       "[0 0|0 0 1 0 0]"
      ]
     },
     "metadata": {},
     "output_type": "display_data"
    }
   ],
   "source": [
    "R=aux.echelon_form(); show(R)"
   ]
  },
  {
   "cell_type": "code",
   "execution_count": 8,
   "metadata": {},
   "outputs": [
    {
     "data": {
      "text/html": [
       "<html><script type=\"math/tex; mode=display\">\\newcommand{\\Bold}[1]{\\mathbf{#1}}\\left(\\begin{array}{rr|rrrrr}\n",
       "1 & 0 & 0 & 0 & 0 & 1 & 2 \\\\\n",
       "0 & 1 & 0 & 0 & 0 & 2 & 2 \\\\\n",
       "\\hline\n",
       " 0 & 0 & 1 & 0 & 0 & 2 & 1 \\\\\n",
       "0 & 0 & 0 & 1 & 0 & 2 & 0 \\\\\n",
       "0 & 0 & 0 & 0 & 1 & 0 & 0\n",
       "\\end{array}\\right)</script></html>"
      ],
      "text/plain": [
       "[1 0|0 0 0 1 2]\n",
       "[0 1|0 0 0 2 2]\n",
       "[---+---------]\n",
       "[0 0|1 0 0 2 1]\n",
       "[0 0|0 1 0 2 0]\n",
       "[0 0|0 0 1 0 0]"
      ]
     },
     "metadata": {},
     "output_type": "display_data"
    }
   ],
   "source": [
    "R=copy(R); R.subdivide([2],[2]); show(R)"
   ]
  },
  {
   "cell_type": "code",
   "execution_count": 9,
   "metadata": {},
   "outputs": [],
   "source": [
    "# Por tanto, V=N(H) siendo H la matriz siguiente: "
   ]
  },
  {
   "cell_type": "code",
   "execution_count": 10,
   "metadata": {},
   "outputs": [
    {
     "data": {
      "text/html": [
       "<html><script type=\"math/tex; mode=display\">\\newcommand{\\Bold}[1]{\\mathbf{#1}}\\left(\\begin{array}{rrrrr}\n",
       "1 & 0 & 0 & 2 & 1 \\\\\n",
       "0 & 1 & 0 & 2 & 0 \\\\\n",
       "0 & 0 & 1 & 0 & 0\n",
       "\\end{array}\\right)</script></html>"
      ],
      "text/plain": [
       "[1 0 0 2 1]\n",
       "[0 1 0 2 0]\n",
       "[0 0 1 0 0]"
      ]
     },
     "metadata": {},
     "output_type": "display_data"
    }
   ],
   "source": [
    "H=R.subdivision(1,1); show(H)"
   ]
  },
  {
   "cell_type": "code",
   "execution_count": 11,
   "metadata": {},
   "outputs": [],
   "source": [
    "# Luego la intersección de U y V es el anulador por la derecha de la matriz:"
   ]
  },
  {
   "cell_type": "code",
   "execution_count": 12,
   "metadata": {},
   "outputs": [
    {
     "data": {
      "text/html": [
       "<html><script type=\"math/tex; mode=display\">\\newcommand{\\Bold}[1]{\\mathbf{#1}}\\left(\\begin{array}{rrrrr}\n",
       "2 & 0 & 1 & 2 & 1 \\\\\n",
       "2 & 1 & 1 & 0 & 0 \\\\\n",
       "1 & 2 & 0 & 0 & 0 \\\\\n",
       "1 & 0 & 0 & 2 & 1 \\\\\n",
       "0 & 1 & 0 & 2 & 0 \\\\\n",
       "0 & 0 & 1 & 0 & 0\n",
       "\\end{array}\\right)</script></html>"
      ],
      "text/plain": [
       "[2 0 1 2 1]\n",
       "[2 1 1 0 0]\n",
       "[1 2 0 0 0]\n",
       "[1 0 0 2 1]\n",
       "[0 1 0 2 0]\n",
       "[0 0 1 0 0]"
      ]
     },
     "metadata": {},
     "output_type": "display_data"
    }
   ],
   "source": [
    "J=block_matrix([[Hp],[H]],subdivide=False); show(J)"
   ]
  }
 ],
 "metadata": {
  "kernelspec": {
   "display_name": "SageMath 9.1",
   "language": "sage",
   "name": "sagemath"
  },
  "language_info": {
   "codemirror_mode": {
    "name": "ipython",
    "version": 3
   },
   "file_extension": ".py",
   "mimetype": "text/x-python",
   "name": "python",
   "nbconvert_exporter": "python",
   "pygments_lexer": "ipython3",
   "version": "3.7.3"
  }
 },
 "nbformat": 4,
 "nbformat_minor": 2
}
