{
 "cells": [
  {
   "cell_type": "markdown",
   "metadata": {},
   "source": [
    "# Inversas laterales por la derecha"
   ]
  },
  {
   "cell_type": "markdown",
   "metadata": {},
   "source": [
    "Ejercicio 30 (t12)"
   ]
  },
  {
   "cell_type": "code",
   "execution_count": 2,
   "metadata": {},
   "outputs": [
    {
     "data": {
      "text/html": [
       "<html><script type=\"math/tex; mode=display\">\\newcommand{\\Bold}[1]{\\mathbf{#1}}\\left(\\begin{array}{rrrr}\n",
       "4 & 4 & 2 & 0 \\\\\n",
       "2 & 1 & 1 & 3\n",
       "\\end{array}\\right)</script></html>"
      ],
      "text/plain": [
       "[4 4 2 0]\n",
       "[2 1 1 3]"
      ]
     },
     "metadata": {},
     "output_type": "display_data"
    }
   ],
   "source": [
    "B=matrix(Zmod(5),[[4,4,2,0],[2,1,1,3]]); show(B)"
   ]
  },
  {
   "cell_type": "code",
   "execution_count": 3,
   "metadata": {},
   "outputs": [
    {
     "data": {
      "text/html": [
       "<html><script type=\"math/tex; mode=display\">\\newcommand{\\Bold}[1]{\\mathbf{#1}}\\left(\\begin{array}{rr|rrrr}\n",
       "4 & 2 & 1 & 0 & 0 & 0 \\\\\n",
       "4 & 1 & 0 & 1 & 0 & 0 \\\\\n",
       "2 & 1 & 0 & 0 & 1 & 0 \\\\\n",
       "0 & 3 & 0 & 0 & 0 & 1\n",
       "\\end{array}\\right)</script></html>"
      ],
      "text/plain": [
       "[4 2|1 0 0 0]\n",
       "[4 1|0 1 0 0]\n",
       "[2 1|0 0 1 0]\n",
       "[0 3|0 0 0 1]"
      ]
     },
     "metadata": {},
     "output_type": "display_data"
    }
   ],
   "source": [
    "BB=block_matrix([[B.T,1]]); show(BB) # Trabajamos con la traspuesta de B."
   ]
  },
  {
   "cell_type": "code",
   "execution_count": 4,
   "metadata": {},
   "outputs": [
    {
     "data": {
      "text/html": [
       "<html><script type=\"math/tex; mode=display\">\\newcommand{\\Bold}[1]{\\mathbf{#1}}\\left(\\begin{array}{rr|rrrr}\n",
       "1 & 0 & 0 & 0 & 3 & 4 \\\\\n",
       "0 & 1 & 0 & 0 & 0 & 2 \\\\\n",
       "0 & 0 & 1 & 0 & 3 & 0 \\\\\n",
       "0 & 0 & 0 & 1 & 3 & 2\n",
       "\\end{array}\\right)</script></html>"
      ],
      "text/plain": [
       "[1 0|0 0 3 4]\n",
       "[0 1|0 0 0 2]\n",
       "[0 0|1 0 3 0]\n",
       "[0 0|0 1 3 2]"
      ]
     },
     "metadata": {},
     "output_type": "display_data"
    }
   ],
   "source": [
    "D=BB.echelon_form(); show(D)"
   ]
  },
  {
   "cell_type": "code",
   "execution_count": 5,
   "metadata": {},
   "outputs": [],
   "source": [
    "D=copy(D) # Esta copia de D es necesaria para subdividirla (SAGE no lo puede hacer directamente)."
   ]
  },
  {
   "cell_type": "code",
   "execution_count": 6,
   "metadata": {},
   "outputs": [
    {
     "data": {
      "text/html": [
       "<html><script type=\"math/tex; mode=display\">\\newcommand{\\Bold}[1]{\\mathbf{#1}}\\left(\\begin{array}{rr|rrrr}\n",
       "1 & 0 & 0 & 0 & 3 & 4 \\\\\n",
       "0 & 1 & 0 & 0 & 0 & 2 \\\\\n",
       "\\hline\n",
       " 0 & 0 & 1 & 0 & 3 & 0 \\\\\n",
       "0 & 0 & 0 & 1 & 3 & 2\n",
       "\\end{array}\\right)</script></html>"
      ],
      "text/plain": [
       "[1 0|0 0 3 4]\n",
       "[0 1|0 0 0 2]\n",
       "[---+-------]\n",
       "[0 0|1 0 3 0]\n",
       "[0 0|0 1 3 2]"
      ]
     },
     "metadata": {},
     "output_type": "display_data"
    }
   ],
   "source": [
    "D.subdivide([2],[2]); show(D)"
   ]
  },
  {
   "cell_type": "code",
   "execution_count": 9,
   "metadata": {},
   "outputs": [],
   "source": [
    "# En vista de esta reducción, B^T (la traspuesta de B) tiene inversas laterales por la izquierda \n",
    "# y, por tanto, B tiene inversas laterales por la derecha."
   ]
  },
  {
   "cell_type": "code",
   "execution_count": 7,
   "metadata": {},
   "outputs": [
    {
     "data": {
      "text/html": [
       "<html><script type=\"math/tex; mode=display\">\\newcommand{\\Bold}[1]{\\mathbf{#1}}\\left(\\begin{array}{rrrr}\n",
       "0 & 0 & 3 & 4 \\\\\n",
       "0 & 0 & 0 & 2\n",
       "\\end{array}\\right)</script></html>"
      ],
      "text/plain": [
       "[0 0 3 4]\n",
       "[0 0 0 2]"
      ]
     },
     "metadata": {},
     "output_type": "display_data"
    }
   ],
   "source": [
    "A=D.subdivision(0,1); show(A)"
   ]
  },
  {
   "cell_type": "code",
   "execution_count": 8,
   "metadata": {},
   "outputs": [
    {
     "data": {
      "text/html": [
       "<html><script type=\"math/tex; mode=display\">\\newcommand{\\Bold}[1]{\\mathbf{#1}}\\left(\\begin{array}{rrrr}\n",
       "1 & 0 & 3 & 0 \\\\\n",
       "0 & 1 & 3 & 2\n",
       "\\end{array}\\right)</script></html>"
      ],
      "text/plain": [
       "[1 0 3 0]\n",
       "[0 1 3 2]"
      ]
     },
     "metadata": {},
     "output_type": "display_data"
    }
   ],
   "source": [
    "H=D.subdivision(1,1); show(H)"
   ]
  },
  {
   "cell_type": "code",
   "execution_count": 12,
   "metadata": {},
   "outputs": [],
   "source": [
    "# La forma general de las inversas laterales por la izquierda de B^T es A+C*H\n",
    "# siendo C una matriz de parámetros de tamaño 2x2 (para que C*H tenga el mismo tamaño que A)."
   ]
  },
  {
   "cell_type": "code",
   "execution_count": 13,
   "metadata": {},
   "outputs": [],
   "source": [
    "# Vamos a definir C con SAGE:"
   ]
  },
  {
   "cell_type": "code",
   "execution_count": 9,
   "metadata": {},
   "outputs": [],
   "source": [
    "R=PolynomialRing(Zmod(5),4,\"c\")\n",
    "# Definimos el anillo de polinomios en 4 variables (c0, c1, c2 y c3) sobre el cuerpo Z_5."
   ]
  },
  {
   "cell_type": "code",
   "execution_count": 10,
   "metadata": {},
   "outputs": [
    {
     "data": {
      "text/plain": [
       "(c0, c1, c2, c3)"
      ]
     },
     "execution_count": 10,
     "metadata": {},
     "output_type": "execute_result"
    }
   ],
   "source": [
    "R.gens() # Lista de variables de R:"
   ]
  },
  {
   "cell_type": "code",
   "execution_count": 11,
   "metadata": {},
   "outputs": [
    {
     "data": {
      "text/html": [
       "<html><script type=\"math/tex; mode=display\">\\newcommand{\\Bold}[1]{\\mathbf{#1}}\\left(\\begin{array}{rr}\n",
       "c_{0} & c_{1} \\\\\n",
       "c_{2} & c_{3}\n",
       "\\end{array}\\right)</script></html>"
      ],
      "text/plain": [
       "[c0 c1]\n",
       "[c2 c3]"
      ]
     },
     "metadata": {},
     "output_type": "display_data"
    }
   ],
   "source": [
    "C=matrix(R,2,2,R.gens()); show(C)"
   ]
  },
  {
   "cell_type": "code",
   "execution_count": 12,
   "metadata": {},
   "outputs": [],
   "source": [
    "# La forma general de las inversas laterales por la derecha de B es (A+C*H)^T:"
   ]
  },
  {
   "cell_type": "code",
   "execution_count": 13,
   "metadata": {},
   "outputs": [
    {
     "data": {
      "text/html": [
       "<html><script type=\"math/tex; mode=display\">\\newcommand{\\Bold}[1]{\\mathbf{#1}}\\left(\\begin{array}{rr}\n",
       "c_{0} & c_{2} \\\\\n",
       "c_{1} & c_{3} \\\\\n",
       "3 c_{0} + 3 c_{1} + 3 & 3 c_{2} + 3 c_{3} \\\\\n",
       "2 c_{1} + 4 & 2 c_{3} + 2\n",
       "\\end{array}\\right)</script></html>"
      ],
      "text/plain": [
       "[             c0              c2]\n",
       "[             c1              c3]\n",
       "[3*c0 + 3*c1 + 3     3*c2 + 3*c3]\n",
       "[       2*c1 + 4        2*c3 + 2]"
      ]
     },
     "metadata": {},
     "output_type": "display_data"
    }
   ],
   "source": [
    "show((A+C*H).T)"
   ]
  },
  {
   "cell_type": "code",
   "execution_count": 14,
   "metadata": {},
   "outputs": [
    {
     "data": {
      "text/html": [
       "<html><script type=\"math/tex; mode=display\">\\newcommand{\\Bold}[1]{\\mathbf{#1}}\\left(\\begin{array}{rr}\n",
       "1 & 0 \\\\\n",
       "0 & 1\n",
       "\\end{array}\\right)</script></html>"
      ],
      "text/plain": [
       "[1 0]\n",
       "[0 1]"
      ]
     },
     "metadata": {},
     "output_type": "display_data"
    }
   ],
   "source": [
    "show(B*((A+C*H).T)) # comprobación"
   ]
  }
 ],
 "metadata": {
  "kernelspec": {
   "display_name": "SageMath 9.1",
   "language": "sage",
   "name": "sagemath"
  },
  "language_info": {
   "codemirror_mode": {
    "name": "ipython",
    "version": 3
   },
   "file_extension": ".py",
   "mimetype": "text/x-python",
   "name": "python",
   "nbconvert_exporter": "python",
   "pygments_lexer": "ipython3",
   "version": "3.7.3"
  }
 },
 "nbformat": 4,
 "nbformat_minor": 2
}
