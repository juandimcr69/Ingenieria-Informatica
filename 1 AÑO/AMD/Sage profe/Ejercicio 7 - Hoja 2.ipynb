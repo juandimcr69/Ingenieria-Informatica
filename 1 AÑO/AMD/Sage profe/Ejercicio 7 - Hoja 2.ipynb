{
 "cells": [
  {
   "cell_type": "markdown",
   "metadata": {},
   "source": [
    "# Ejercicio 7 - Hoja 2"
   ]
  },
  {
   "cell_type": "markdown",
   "metadata": {},
   "source": [
    "Apartado c)"
   ]
  },
  {
   "cell_type": "code",
   "execution_count": 2,
   "metadata": {},
   "outputs": [],
   "source": [
    "# La matriz de g en bases canónicas es:"
   ]
  },
  {
   "cell_type": "code",
   "execution_count": 1,
   "metadata": {},
   "outputs": [
    {
     "data": {
      "text/html": [
       "<html><script type=\"math/tex; mode=display\">\\newcommand{\\Bold}[1]{\\mathbf{#1}}\\left(\\begin{array}{rrr}\n",
       "1 & 1 & 1 \\\\\n",
       "1 & 3 & -1\n",
       "\\end{array}\\right)</script></html>"
      ],
      "text/plain": [
       "[ 1  1  1]\n",
       "[ 1  3 -1]"
      ]
     },
     "metadata": {},
     "output_type": "display_data"
    }
   ],
   "source": [
    "Mg=matrix(QQ,[[1,1,1],[1,3,-1]]); show(Mg)"
   ]
  },
  {
   "cell_type": "code",
   "execution_count": 3,
   "metadata": {},
   "outputs": [],
   "source": [
    "# La matriz de f en bases canónicas es:"
   ]
  },
  {
   "cell_type": "code",
   "execution_count": 4,
   "metadata": {},
   "outputs": [
    {
     "data": {
      "text/html": [
       "<html><script type=\"math/tex; mode=display\">\\newcommand{\\Bold}[1]{\\mathbf{#1}}\\left(\\begin{array}{rr}\n",
       "2 & -1 \\\\\n",
       "1 & 3 \\\\\n",
       "-1 & -1\n",
       "\\end{array}\\right)</script></html>"
      ],
      "text/plain": [
       "[ 2 -1]\n",
       "[ 1  3]\n",
       "[-1 -1]"
      ]
     },
     "metadata": {},
     "output_type": "display_data"
    }
   ],
   "source": [
    "Mf=matrix(QQ,[[2,-1],[1,3],[-1,-1]]); show(Mf)"
   ]
  },
  {
   "cell_type": "code",
   "execution_count": 5,
   "metadata": {},
   "outputs": [],
   "source": [
    "# Por tanto, la matriz de fog en base canónica es:"
   ]
  },
  {
   "cell_type": "code",
   "execution_count": 6,
   "metadata": {},
   "outputs": [
    {
     "data": {
      "text/html": [
       "<html><script type=\"math/tex; mode=display\">\\newcommand{\\Bold}[1]{\\mathbf{#1}}\\left(\\begin{array}{rrr}\n",
       "1 & -1 & 3 \\\\\n",
       "4 & 10 & -2 \\\\\n",
       "-2 & -4 & 0\n",
       "\\end{array}\\right)</script></html>"
      ],
      "text/plain": [
       "[ 1 -1  3]\n",
       "[ 4 10 -2]\n",
       "[-2 -4  0]"
      ]
     },
     "metadata": {},
     "output_type": "display_data"
    }
   ],
   "source": [
    "M=Mf*Mg; show(M)"
   ]
  },
  {
   "cell_type": "code",
   "execution_count": 8,
   "metadata": {},
   "outputs": [],
   "source": [
    "# Introducimos las otras bases:"
   ]
  },
  {
   "cell_type": "code",
   "execution_count": 7,
   "metadata": {},
   "outputs": [
    {
     "data": {
      "text/html": [
       "<html><script type=\"math/tex; mode=display\">\\newcommand{\\Bold}[1]{\\mathbf{#1}}\\left(\\begin{array}{rrr}\n",
       "1 & -1 & 0 \\\\\n",
       "1 & 1 & 0 \\\\\n",
       "1 & -1 & 2\n",
       "\\end{array}\\right)</script></html>"
      ],
      "text/plain": [
       "[ 1 -1  0]\n",
       "[ 1  1  0]\n",
       "[ 1 -1  2]"
      ]
     },
     "metadata": {},
     "output_type": "display_data"
    }
   ],
   "source": [
    "B2=column_matrix(QQ,[[1,1,1],[-1,1,-1],[0,0,2]]); show(B2)"
   ]
  },
  {
   "cell_type": "code",
   "execution_count": 9,
   "metadata": {},
   "outputs": [
    {
     "data": {
      "text/html": [
       "<html><script type=\"math/tex; mode=display\">\\newcommand{\\Bold}[1]{\\mathbf{#1}}\\left(\\begin{array}{rrr}\n",
       "1 & 1 & 2 \\\\\n",
       "-1 & 0 & -3 \\\\\n",
       "2 & -1 & 2\n",
       "\\end{array}\\right)</script></html>"
      ],
      "text/plain": [
       "[ 1  1  2]\n",
       "[-1  0 -3]\n",
       "[ 2 -1  2]"
      ]
     },
     "metadata": {},
     "output_type": "display_data"
    }
   ],
   "source": [
    "B3=column_matrix(QQ,[[1,-1,2],[1,0,-1],[2,-3,2]]); show(B3)"
   ]
  },
  {
   "cell_type": "code",
   "execution_count": 10,
   "metadata": {},
   "outputs": [],
   "source": [
    "# La base de fog en las bases B2 y B3 es:"
   ]
  },
  {
   "cell_type": "code",
   "execution_count": 11,
   "metadata": {},
   "outputs": [
    {
     "data": {
      "text/html": [
       "<html><script type=\"math/tex; mode=display\">\\newcommand{\\Bold}[1]{\\mathbf{#1}}\\left(\\begin{array}{rrr}\n",
       "\\frac{39}{5} & \\frac{11}{5} & \\frac{2}{5} \\\\\n",
       "\\frac{42}{5} & -\\frac{2}{5} & \\frac{16}{5} \\\\\n",
       "-\\frac{33}{5} & -\\frac{17}{5} & \\frac{6}{5}\n",
       "\\end{array}\\right)</script></html>"
      ],
      "text/plain": [
       "[ 39/5  11/5   2/5]\n",
       "[ 42/5  -2/5  16/5]\n",
       "[-33/5 -17/5   6/5]"
      ]
     },
     "metadata": {},
     "output_type": "display_data"
    }
   ],
   "source": [
    "MB2B3=B3^-1*M*B2; show(MB2B3)"
   ]
  }
 ],
 "metadata": {
  "kernelspec": {
   "display_name": "SageMath 9.1",
   "language": "sage",
   "name": "sagemath"
  },
  "language_info": {
   "codemirror_mode": {
    "name": "ipython",
    "version": 3
   },
   "file_extension": ".py",
   "mimetype": "text/x-python",
   "name": "python",
   "nbconvert_exporter": "python",
   "pygments_lexer": "ipython3",
   "version": "3.7.3"
  }
 },
 "nbformat": 4,
 "nbformat_minor": 2
}
