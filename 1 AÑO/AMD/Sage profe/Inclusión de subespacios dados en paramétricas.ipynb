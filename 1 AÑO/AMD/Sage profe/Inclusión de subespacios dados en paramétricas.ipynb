{
 "cells": [
  {
   "cell_type": "markdown",
   "metadata": {},
   "source": [
    "# Inclusión de subespacios dados en paramétricas"
   ]
  },
  {
   "cell_type": "markdown",
   "metadata": {},
   "source": [
    "Ejercicio 148 (t19)"
   ]
  },
  {
   "cell_type": "code",
   "execution_count": 1,
   "metadata": {},
   "outputs": [],
   "source": [
    "# El subespacio V=C(B) está generado por las columnas de la matriz siguiente:"
   ]
  },
  {
   "cell_type": "code",
   "execution_count": 3,
   "metadata": {},
   "outputs": [
    {
     "data": {
      "text/html": [
       "<html><script type=\"math/tex; mode=display\">\\newcommand{\\Bold}[1]{\\mathbf{#1}}\\left(\\begin{array}{rrr}\n",
       "1 & 2 & 1 \\\\\n",
       "0 & 1 & 0 \\\\\n",
       "2 & 2 & 2 \\\\\n",
       "0 & 2 & 0\n",
       "\\end{array}\\right)</script></html>"
      ],
      "text/plain": [
       "[1 2 1]\n",
       "[0 1 0]\n",
       "[2 2 2]\n",
       "[0 2 0]"
      ]
     },
     "metadata": {},
     "output_type": "display_data"
    }
   ],
   "source": [
    "B=column_matrix(Zmod(3),[[1,0,2,0],[2,1,2,2],[1,0,2,0]]); show(B)"
   ]
  },
  {
   "cell_type": "code",
   "execution_count": 4,
   "metadata": {},
   "outputs": [],
   "source": [
    "# El subespacio U=C(B') está generado por las columnas de la matriz siguiente:"
   ]
  },
  {
   "cell_type": "code",
   "execution_count": 5,
   "metadata": {},
   "outputs": [
    {
     "data": {
      "text/html": [
       "<html><script type=\"math/tex; mode=display\">\\newcommand{\\Bold}[1]{\\mathbf{#1}}\\left(\\begin{array}{rr}\n",
       "0 & 0 \\\\\n",
       "0 & 1 \\\\\n",
       "0 & 1 \\\\\n",
       "0 & 2\n",
       "\\end{array}\\right)</script></html>"
      ],
      "text/plain": [
       "[0 0]\n",
       "[0 1]\n",
       "[0 1]\n",
       "[0 2]"
      ]
     },
     "metadata": {},
     "output_type": "display_data"
    }
   ],
   "source": [
    "Bp=column_matrix(Zmod(3),[[0,0,0,0],[0,1,1,2]]); show(Bp)"
   ]
  },
  {
   "cell_type": "code",
   "execution_count": 6,
   "metadata": {},
   "outputs": [],
   "source": [
    "# Pegamos las dos matrices:"
   ]
  },
  {
   "cell_type": "code",
   "execution_count": 7,
   "metadata": {},
   "outputs": [
    {
     "data": {
      "text/html": [
       "<html><script type=\"math/tex; mode=display\">\\newcommand{\\Bold}[1]{\\mathbf{#1}}\\left(\\begin{array}{rrr|rr}\n",
       "1 & 2 & 1 & 0 & 0 \\\\\n",
       "0 & 1 & 0 & 0 & 1 \\\\\n",
       "2 & 2 & 2 & 0 & 1 \\\\\n",
       "0 & 2 & 0 & 0 & 2\n",
       "\\end{array}\\right)</script></html>"
      ],
      "text/plain": [
       "[1 2 1|0 0]\n",
       "[0 1 0|0 1]\n",
       "[2 2 2|0 1]\n",
       "[0 2 0|0 2]"
      ]
     },
     "metadata": {},
     "output_type": "display_data"
    }
   ],
   "source": [
    "BBp=block_matrix([[B,Bp]]); show(BBp)"
   ]
  },
  {
   "cell_type": "code",
   "execution_count": 8,
   "metadata": {},
   "outputs": [],
   "source": [
    "# Y la reducimos por filas:"
   ]
  },
  {
   "cell_type": "code",
   "execution_count": 9,
   "metadata": {},
   "outputs": [
    {
     "data": {
      "text/html": [
       "<html><script type=\"math/tex; mode=display\">\\newcommand{\\Bold}[1]{\\mathbf{#1}}\\left(\\begin{array}{rrr|rr}\n",
       "1 & 0 & 1 & 0 & 1 \\\\\n",
       "0 & 1 & 0 & 0 & 1 \\\\\n",
       "0 & 0 & 0 & 0 & 0 \\\\\n",
       "0 & 0 & 0 & 0 & 0\n",
       "\\end{array}\\right)</script></html>"
      ],
      "text/plain": [
       "[1 0 1|0 1]\n",
       "[0 1 0|0 1]\n",
       "[0 0 0|0 0]\n",
       "[0 0 0|0 0]"
      ]
     },
     "metadata": {},
     "output_type": "display_data"
    }
   ],
   "source": [
    "show(BBp.echelon_form())"
   ]
  },
  {
   "cell_type": "code",
   "execution_count": null,
   "metadata": {},
   "outputs": [],
   "source": [
    "# Ninguna de las columnas del bloque de la derecha es pivote.\n",
    "# Por tanto, las columnas de Bp pertenecen a V, es decir, U está contenido en V."
   ]
  }
 ],
 "metadata": {
  "kernelspec": {
   "display_name": "SageMath 9.1",
   "language": "sage",
   "name": "sagemath"
  },
  "language_info": {
   "codemirror_mode": {
    "name": "ipython",
    "version": 3
   },
   "file_extension": ".py",
   "mimetype": "text/x-python",
   "name": "python",
   "nbconvert_exporter": "python",
   "pygments_lexer": "ipython3",
   "version": "3.7.3"
  }
 },
 "nbformat": 4,
 "nbformat_minor": 2
}
